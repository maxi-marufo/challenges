{
 "cells": [
  {
   "cell_type": "markdown",
   "metadata": {},
   "source": [
    "## Batch Transform\n",
    "\n",
    "Now we are going to use \"today's\" features to create predictions, that the business unit is going to use as an input for promotions. \n",
    "\n",
    "For this, we are going to deploy the model created on the best training job from the hyperparameter tunning job and use the resulting endpoint for inference. "
   ]
  },
  {
   "cell_type": "code",
   "execution_count": 1,
   "metadata": {},
   "outputs": [],
   "source": [
    "import sagemaker\n",
    "import boto3\n",
    "from sagemaker.estimator import Estimator\n",
    "from sagemaker.tuner import HyperparameterTuner\n",
    "import numpy as np                                # For matrix operations and numerical processing\n",
    "import pandas as pd                               # For munging tabular data\n",
    "import os \n",
    "import time\n",
    "from sagemaker.predictor import csv_serializer,RealTimePredictor\n",
    "\n",
    "# take the best training job from notebook #PROD2\n",
    "# best_training_job = 'hpo-invoice-pred-191009-1624-002-2086aff7'\n",
    "role = sagemaker.get_execution_role()\n",
    "prefix = 'predictions'"
   ]
  },
  {
   "cell_type": "code",
   "execution_count": 2,
   "metadata": {},
   "outputs": [],
   "source": [
    "%store -r bucket"
   ]
  },
  {
   "cell_type": "code",
   "execution_count": 3,
   "metadata": {},
   "outputs": [],
   "source": [
    "df = pd.read_csv('to_predict.csv',header=None)"
   ]
  },
  {
   "cell_type": "code",
   "execution_count": 4,
   "metadata": {},
   "outputs": [
    {
     "data": {
      "text/plain": [
       "(1197, 24)"
      ]
     },
     "execution_count": 4,
     "metadata": {},
     "output_type": "execute_result"
    }
   ],
   "source": [
    "df.shape"
   ]
  },
  {
   "cell_type": "code",
   "execution_count": 5,
   "metadata": {},
   "outputs": [],
   "source": [
    "id_reseller = pd.read_csv('id_reseller_to_predict.csv',header=None)[0]"
   ]
  },
  {
   "cell_type": "code",
   "execution_count": 6,
   "metadata": {},
   "outputs": [
    {
     "data": {
      "text/plain": [
       "(1197,)"
      ]
     },
     "execution_count": 6,
     "metadata": {},
     "output_type": "execute_result"
    }
   ],
   "source": [
    "id_reseller.shape"
   ]
  },
  {
   "cell_type": "markdown",
   "metadata": {},
   "source": [
    "Make sure you stored the best_job variable in <a href='./PROD2.ModelTrain.ipynb'>notebook 2 </a>"
   ]
  },
  {
   "cell_type": "code",
   "execution_count": 7,
   "metadata": {},
   "outputs": [],
   "source": [
    "%store -r best_job"
   ]
  },
  {
   "cell_type": "code",
   "execution_count": 8,
   "metadata": {},
   "outputs": [
    {
     "name": "stdout",
     "output_type": "stream",
     "text": [
      "2019-12-10 19:47:59 Starting - Preparing the instances for training\n",
      "2019-12-10 19:47:59 Downloading - Downloading input data\n",
      "2019-12-10 19:47:59 Training - Training image download completed. Training in progress.\n",
      "2019-12-10 19:47:59 Uploading - Uploading generated training model\n",
      "2019-12-10 19:47:59 Completed - Training job completed\u001b[34mArguments: train\u001b[0m\n",
      "\u001b[34m[2019-12-10:19:47:27:INFO] Running standalone xgboost training.\u001b[0m\n",
      "\u001b[34m[2019-12-10:19:47:27:INFO] Setting up HPO optimized metric to be : mae\u001b[0m\n",
      "\u001b[34m[2019-12-10:19:47:27:INFO] File size need to be processed in the node: 20.56mb. Available memory size in the node: 8524.61mb\u001b[0m\n",
      "\u001b[34m[2019-12-10:19:47:27:INFO] Determined delimiter of CSV input is ','\u001b[0m\n",
      "\u001b[34m[19:47:27] S3DistributionType set as FullyReplicated\u001b[0m\n",
      "\u001b[34m[19:47:27] 126181x24 matrix with 3024374 entries loaded from /opt/ml/input/data/train?format=csv&label_column=0&delimiter=,\u001b[0m\n",
      "\u001b[34m[2019-12-10:19:47:27:INFO] Determined delimiter of CSV input is ','\u001b[0m\n",
      "\u001b[34m[19:47:27] S3DistributionType set as FullyReplicated\u001b[0m\n",
      "\u001b[34m[19:47:27] 13586x24 matrix with 325834 entries loaded from /opt/ml/input/data/validation?format=csv&label_column=0&delimiter=,\u001b[0m\n",
      "\u001b[34m[19:47:28] src/tree/updater_prune.cc:74: tree pruning end, 1 roots, 2012 extra nodes, 0 pruned nodes, max_depth=13\u001b[0m\n",
      "\u001b[34m[0]#011train-mae:16746.1#011validation-mae:18702\u001b[0m\n",
      "\u001b[34m[19:47:28] src/tree/updater_prune.cc:74: tree pruning end, 1 roots, 1940 extra nodes, 0 pruned nodes, max_depth=13\u001b[0m\n",
      "\u001b[34m[1]#011train-mae:12227.9#011validation-mae:14864.6\u001b[0m\n",
      "\u001b[34m[19:47:28] src/tree/updater_prune.cc:74: tree pruning end, 1 roots, 2052 extra nodes, 0 pruned nodes, max_depth=13\u001b[0m\n",
      "\u001b[34m[2]#011train-mae:9458.22#011validation-mae:12440\u001b[0m\n",
      "\u001b[34m[19:47:28] src/tree/updater_prune.cc:74: tree pruning end, 1 roots, 2124 extra nodes, 0 pruned nodes, max_depth=13\u001b[0m\n",
      "\u001b[34m[3]#011train-mae:7708.18#011validation-mae:11645.1\u001b[0m\n",
      "\u001b[34m[19:47:29] src/tree/updater_prune.cc:74: tree pruning end, 1 roots, 1962 extra nodes, 0 pruned nodes, max_depth=13\u001b[0m\n",
      "\u001b[34m[4]#011train-mae:6623.62#011validation-mae:11397.8\u001b[0m\n",
      "\u001b[34m[19:47:29] src/tree/updater_prune.cc:74: tree pruning end, 1 roots, 1842 extra nodes, 0 pruned nodes, max_depth=13\u001b[0m\n",
      "\u001b[34m[5]#011train-mae:5909.34#011validation-mae:11257.1\u001b[0m\n",
      "\u001b[34m[19:47:29] src/tree/updater_prune.cc:74: tree pruning end, 1 roots, 1566 extra nodes, 0 pruned nodes, max_depth=13\u001b[0m\n",
      "\u001b[34m[6]#011train-mae:5416.71#011validation-mae:11486.5\u001b[0m\n",
      "\u001b[34m[19:47:30] src/tree/updater_prune.cc:74: tree pruning end, 1 roots, 1278 extra nodes, 0 pruned nodes, max_depth=13\u001b[0m\n",
      "\u001b[34m[7]#011train-mae:5068.89#011validation-mae:11631.6\u001b[0m\n",
      "\u001b[34m[19:47:30] src/tree/updater_prune.cc:74: tree pruning end, 1 roots, 1330 extra nodes, 0 pruned nodes, max_depth=13\u001b[0m\n",
      "\u001b[34m[8]#011train-mae:4852.45#011validation-mae:11689.5\u001b[0m\n",
      "\u001b[34m[19:47:30] src/tree/updater_prune.cc:74: tree pruning end, 1 roots, 928 extra nodes, 0 pruned nodes, max_depth=13\u001b[0m\n",
      "\u001b[34m[9]#011train-mae:4656.58#011validation-mae:11857\u001b[0m\n",
      "\u001b[34m[19:47:31] src/tree/updater_prune.cc:74: tree pruning end, 1 roots, 742 extra nodes, 0 pruned nodes, max_depth=13\u001b[0m\n",
      "\u001b[34m[10]#011train-mae:4532.98#011validation-mae:11879.9\u001b[0m\n",
      "\u001b[34m[19:47:31] src/tree/updater_prune.cc:74: tree pruning end, 1 roots, 536 extra nodes, 0 pruned nodes, max_depth=13\u001b[0m\n",
      "\u001b[34m[11]#011train-mae:4426.85#011validation-mae:11985.5\u001b[0m\n",
      "\u001b[34m[19:47:31] src/tree/updater_prune.cc:74: tree pruning end, 1 roots, 340 extra nodes, 0 pruned nodes, max_depth=13\u001b[0m\n",
      "\u001b[34m[12]#011train-mae:4360.97#011validation-mae:11981.4\u001b[0m\n",
      "\u001b[34m[19:47:31] src/tree/updater_prune.cc:74: tree pruning end, 1 roots, 396 extra nodes, 0 pruned nodes, max_depth=13\u001b[0m\n",
      "\u001b[34m[13]#011train-mae:4281.55#011validation-mae:12147.4\u001b[0m\n",
      "\u001b[34m[19:47:32] src/tree/updater_prune.cc:74: tree pruning end, 1 roots, 246 extra nodes, 0 pruned nodes, max_depth=13\u001b[0m\n",
      "\u001b[34m[14]#011train-mae:4238.14#011validation-mae:12202.2\u001b[0m\n",
      "\u001b[34m[19:47:32] src/tree/updater_prune.cc:74: tree pruning end, 1 roots, 268 extra nodes, 0 pruned nodes, max_depth=13\u001b[0m\n",
      "\u001b[34m[15]#011train-mae:4193.03#011validation-mae:12204.2\u001b[0m\n",
      "\u001b[34m[19:47:32] src/tree/updater_prune.cc:74: tree pruning end, 1 roots, 234 extra nodes, 0 pruned nodes, max_depth=13\u001b[0m\n",
      "\u001b[34m[16]#011train-mae:4159.12#011validation-mae:12192\u001b[0m\n",
      "\u001b[34m[19:47:32] src/tree/updater_prune.cc:74: tree pruning end, 1 roots, 78 extra nodes, 0 pruned nodes, max_depth=13\u001b[0m\n",
      "\u001b[34m[17]#011train-mae:4150.66#011validation-mae:12189.7\u001b[0m\n",
      "\u001b[34m[19:47:33] src/tree/updater_prune.cc:74: tree pruning end, 1 roots, 154 extra nodes, 0 pruned nodes, max_depth=13\u001b[0m\n",
      "\u001b[34m[18]#011train-mae:4123.19#011validation-mae:12181.6\u001b[0m\n",
      "\u001b[34m[19:47:33] src/tree/updater_prune.cc:74: tree pruning end, 1 roots, 140 extra nodes, 0 pruned nodes, max_depth=13\u001b[0m\n",
      "\u001b[34m[19]#011train-mae:4100.37#011validation-mae:12162.6\u001b[0m\n",
      "\u001b[34m[19:47:33] src/tree/updater_prune.cc:74: tree pruning end, 1 roots, 110 extra nodes, 0 pruned nodes, max_depth=13\u001b[0m\n",
      "\u001b[34m[20]#011train-mae:4085.3#011validation-mae:12161.1\u001b[0m\n",
      "\u001b[34m[19:47:33] src/tree/updater_prune.cc:74: tree pruning end, 1 roots, 186 extra nodes, 0 pruned nodes, max_depth=13\u001b[0m\n",
      "\u001b[34m[21]#011train-mae:4063.77#011validation-mae:12172.6\u001b[0m\n",
      "\u001b[34m[19:47:33] src/tree/updater_prune.cc:74: tree pruning end, 1 roots, 130 extra nodes, 0 pruned nodes, max_depth=13\u001b[0m\n",
      "\u001b[34m[22]#011train-mae:4046.73#011validation-mae:12201.4\u001b[0m\n",
      "\u001b[34m[19:47:34] src/tree/updater_prune.cc:74: tree pruning end, 1 roots, 128 extra nodes, 0 pruned nodes, max_depth=13\u001b[0m\n",
      "\u001b[34m[23]#011train-mae:4031.97#011validation-mae:12172.5\u001b[0m\n",
      "\u001b[34m[19:47:34] src/tree/updater_prune.cc:74: tree pruning end, 1 roots, 126 extra nodes, 0 pruned nodes, max_depth=13\u001b[0m\n",
      "\u001b[34m[24]#011train-mae:4015.41#011validation-mae:12202.1\u001b[0m\n",
      "\u001b[34m[19:47:34] src/tree/updater_prune.cc:74: tree pruning end, 1 roots, 396 extra nodes, 0 pruned nodes, max_depth=13\u001b[0m\n",
      "\u001b[34m[25]#011train-mae:3972.67#011validation-mae:12233.9\u001b[0m\n",
      "\u001b[34m[19:47:34] src/tree/updater_prune.cc:74: tree pruning end, 1 roots, 212 extra nodes, 0 pruned nodes, max_depth=13\u001b[0m\n",
      "\u001b[34m[26]#011train-mae:3952.61#011validation-mae:12222.3\u001b[0m\n",
      "\u001b[34m[19:47:35] src/tree/updater_prune.cc:74: tree pruning end, 1 roots, 136 extra nodes, 0 pruned nodes, max_depth=13\u001b[0m\n",
      "\u001b[34m[27]#011train-mae:3941.97#011validation-mae:12236.4\u001b[0m\n",
      "\u001b[34m[19:47:35] src/tree/updater_prune.cc:74: tree pruning end, 1 roots, 82 extra nodes, 0 pruned nodes, max_depth=13\u001b[0m\n",
      "\u001b[34m[28]#011train-mae:3938.57#011validation-mae:12249.3\u001b[0m\n",
      "\u001b[34m[19:47:35] src/tree/updater_prune.cc:74: tree pruning end, 1 roots, 186 extra nodes, 0 pruned nodes, max_depth=13\u001b[0m\n",
      "\u001b[34m[29]#011train-mae:3915.92#011validation-mae:12235\u001b[0m\n",
      "\u001b[34m[19:47:35] src/tree/updater_prune.cc:74: tree pruning end, 1 roots, 166 extra nodes, 0 pruned nodes, max_depth=13\u001b[0m\n",
      "\u001b[34m[30]#011train-mae:3902.76#011validation-mae:12225.7\u001b[0m\n",
      "\u001b[34m[19:47:35] src/tree/updater_prune.cc:74: tree pruning end, 1 roots, 238 extra nodes, 0 pruned nodes, max_depth=13\u001b[0m\n",
      "\u001b[34m[31]#011train-mae:3877.82#011validation-mae:12222.4\u001b[0m\n",
      "\u001b[34m[19:47:36] src/tree/updater_prune.cc:74: tree pruning end, 1 roots, 188 extra nodes, 0 pruned nodes, max_depth=13\u001b[0m\n",
      "\u001b[34m[32]#011train-mae:3867.85#011validation-mae:12208.4\u001b[0m\n",
      "\u001b[34m[19:47:36] src/tree/updater_prune.cc:74: tree pruning end, 1 roots, 240 extra nodes, 0 pruned nodes, max_depth=13\u001b[0m\n",
      "\u001b[34m[33]#011train-mae:3849.12#011validation-mae:12215.1\u001b[0m\n",
      "\u001b[34m[19:47:36] src/tree/updater_prune.cc:74: tree pruning end, 1 roots, 98 extra nodes, 0 pruned nodes, max_depth=13\u001b[0m\n",
      "\u001b[34m[34]#011train-mae:3838.52#011validation-mae:12225.4\u001b[0m\n",
      "\u001b[34m[19:47:36] src/tree/updater_prune.cc:74: tree pruning end, 1 roots, 234 extra nodes, 0 pruned nodes, max_depth=13\u001b[0m\n",
      "\u001b[34m[35]#011train-mae:3817.69#011validation-mae:12225.4\u001b[0m\n",
      "\u001b[34m[19:47:37] src/tree/updater_prune.cc:74: tree pruning end, 1 roots, 298 extra nodes, 0 pruned nodes, max_depth=13\u001b[0m\n",
      "\u001b[34m[36]#011train-mae:3795.02#011validation-mae:12228.9\u001b[0m\n",
      "\u001b[34m[19:47:37] src/tree/updater_prune.cc:74: tree pruning end, 1 roots, 116 extra nodes, 0 pruned nodes, max_depth=13\u001b[0m\n",
      "\u001b[34m[37]#011train-mae:3786.29#011validation-mae:12231.9\u001b[0m\n",
      "\u001b[34m[19:47:37] src/tree/updater_prune.cc:74: tree pruning end, 1 roots, 282 extra nodes, 0 pruned nodes, max_depth=13\u001b[0m\n",
      "\u001b[34m[38]#011train-mae:3765.23#011validation-mae:12226.7\u001b[0m\n",
      "\u001b[34m[19:47:37] src/tree/updater_prune.cc:74: tree pruning end, 1 roots, 378 extra nodes, 0 pruned nodes, max_depth=13\u001b[0m\n",
      "\u001b[34m[39]#011train-mae:3736.94#011validation-mae:12246\u001b[0m\n",
      "\u001b[34m[19:47:37] src/tree/updater_prune.cc:74: tree pruning end, 1 roots, 354 extra nodes, 0 pruned nodes, max_depth=13\u001b[0m\n",
      "\u001b[34m[40]#011train-mae:3709.29#011validation-mae:12229.3\u001b[0m\n",
      "\u001b[34m[19:47:38] src/tree/updater_prune.cc:74: tree pruning end, 1 roots, 230 extra nodes, 0 pruned nodes, max_depth=13\u001b[0m\n",
      "\u001b[34m[41]#011train-mae:3699.51#011validation-mae:12233.6\u001b[0m\n",
      "\u001b[34m[19:47:38] src/tree/updater_prune.cc:74: tree pruning end, 1 roots, 308 extra nodes, 0 pruned nodes, max_depth=13\u001b[0m\n",
      "\u001b[34m[42]#011train-mae:3682.49#011validation-mae:12238.5\u001b[0m\n",
      "\u001b[34m[19:47:38] src/tree/updater_prune.cc:74: tree pruning end, 1 roots, 326 extra nodes, 0 pruned nodes, max_depth=13\u001b[0m\n",
      "\u001b[34m[43]#011train-mae:3659.02#011validation-mae:12253.7\u001b[0m\n",
      "\u001b[34m[19:47:38] src/tree/updater_prune.cc:74: tree pruning end, 1 roots, 626 extra nodes, 0 pruned nodes, max_depth=13\u001b[0m\n",
      "\u001b[34m[44]#011train-mae:3615.2#011validation-mae:12262.9\u001b[0m\n",
      "\u001b[34m[19:47:39] src/tree/updater_prune.cc:74: tree pruning end, 1 roots, 226 extra nodes, 0 pruned nodes, max_depth=13\u001b[0m\n",
      "\u001b[34m[45]#011train-mae:3602.52#011validation-mae:12256.8\u001b[0m\n",
      "\u001b[34m[19:47:39] src/tree/updater_prune.cc:74: tree pruning end, 1 roots, 208 extra nodes, 0 pruned nodes, max_depth=13\u001b[0m\n",
      "\u001b[34m[46]#011train-mae:3592.34#011validation-mae:12258.2\u001b[0m\n",
      "\u001b[34m[19:47:39] src/tree/updater_prune.cc:74: tree pruning end, 1 roots, 112 extra nodes, 0 pruned nodes, max_depth=13\u001b[0m\n",
      "\u001b[34m[47]#011train-mae:3589.34#011validation-mae:12255.2\u001b[0m\n",
      "\u001b[34m[19:47:39] src/tree/updater_prune.cc:74: tree pruning end, 1 roots, 82 extra nodes, 0 pruned nodes, max_depth=13\u001b[0m\n",
      "\u001b[34m[48]#011train-mae:3586.8#011validation-mae:12257.1\u001b[0m\n",
      "\u001b[34m[19:47:40] src/tree/updater_prune.cc:74: tree pruning end, 1 roots, 266 extra nodes, 0 pruned nodes, max_depth=13\u001b[0m\n",
      "\u001b[34m[49]#011train-mae:3574.06#011validation-mae:12255.4\u001b[0m\n",
      "\u001b[34m[19:47:40] src/tree/updater_prune.cc:74: tree pruning end, 1 roots, 190 extra nodes, 0 pruned nodes, max_depth=13\u001b[0m\n",
      "\u001b[34m[50]#011train-mae:3565#011validation-mae:12255.1\u001b[0m\n",
      "\u001b[34m[19:47:40] src/tree/updater_prune.cc:74: tree pruning end, 1 roots, 386 extra nodes, 0 pruned nodes, max_depth=13\u001b[0m\n",
      "\u001b[34m[51]#011train-mae:3535.38#011validation-mae:12250.8\u001b[0m\n",
      "\u001b[34m[19:47:40] src/tree/updater_prune.cc:74: tree pruning end, 1 roots, 234 extra nodes, 0 pruned nodes, max_depth=13\u001b[0m\n",
      "\u001b[34m[52]#011train-mae:3522.69#011validation-mae:12245\u001b[0m\n",
      "\u001b[34m[19:47:40] src/tree/updater_prune.cc:74: tree pruning end, 1 roots, 282 extra nodes, 0 pruned nodes, max_depth=13\u001b[0m\n",
      "\u001b[34m[53]#011train-mae:3505.63#011validation-mae:12241\u001b[0m\n",
      "\u001b[34m[19:47:41] src/tree/updater_prune.cc:74: tree pruning end, 1 roots, 422 extra nodes, 0 pruned nodes, max_depth=13\u001b[0m\n",
      "\u001b[34m[54]#011train-mae:3486.91#011validation-mae:12235.4\u001b[0m\n",
      "\u001b[34m[19:47:41] src/tree/updater_prune.cc:74: tree pruning end, 1 roots, 332 extra nodes, 0 pruned nodes, max_depth=13\u001b[0m\n",
      "\u001b[34m[55]#011train-mae:3468.97#011validation-mae:12241.5\u001b[0m\n",
      "\u001b[34m[19:47:41] src/tree/updater_prune.cc:74: tree pruning end, 1 roots, 326 extra nodes, 0 pruned nodes, max_depth=13\u001b[0m\n",
      "\u001b[34m[56]#011train-mae:3457.49#011validation-mae:12247\u001b[0m\n",
      "\u001b[34m[19:47:41] src/tree/updater_prune.cc:74: tree pruning end, 1 roots, 348 extra nodes, 0 pruned nodes, max_depth=13\u001b[0m\n",
      "\u001b[34m[57]#011train-mae:3445.22#011validation-mae:12250.7\u001b[0m\n",
      "\u001b[34m[19:47:42] src/tree/updater_prune.cc:74: tree pruning end, 1 roots, 406 extra nodes, 0 pruned nodes, max_depth=13\u001b[0m\n",
      "\u001b[34m[58]#011train-mae:3430.81#011validation-mae:12255.4\u001b[0m\n",
      "\u001b[34m[19:47:42] src/tree/updater_prune.cc:74: tree pruning end, 1 roots, 502 extra nodes, 0 pruned nodes, max_depth=13\u001b[0m\n",
      "\u001b[34m[59]#011train-mae:3399.55#011validation-mae:12237.8\u001b[0m\n",
      "\u001b[34m[19:47:42] src/tree/updater_prune.cc:74: tree pruning end, 1 roots, 400 extra nodes, 0 pruned nodes, max_depth=13\u001b[0m\n",
      "\u001b[34m[60]#011train-mae:3379.18#011validation-mae:12243.3\u001b[0m\n",
      "\u001b[34m[19:47:42] src/tree/updater_prune.cc:74: tree pruning end, 1 roots, 572 extra nodes, 0 pruned nodes, max_depth=13\u001b[0m\n",
      "\u001b[34m[61]#011train-mae:3357.67#011validation-mae:12264.4\u001b[0m\n",
      "\u001b[34m[19:47:42] src/tree/updater_prune.cc:74: tree pruning end, 1 roots, 330 extra nodes, 0 pruned nodes, max_depth=13\u001b[0m\n",
      "\u001b[34m[62]#011train-mae:3345.23#011validation-mae:12266.1\u001b[0m\n",
      "\u001b[34m[19:47:43] src/tree/updater_prune.cc:74: tree pruning end, 1 roots, 206 extra nodes, 0 pruned nodes, max_depth=13\u001b[0m\n",
      "\u001b[34m[63]#011train-mae:3338.91#011validation-mae:12265.1\u001b[0m\n",
      "\u001b[34m[19:47:43] src/tree/updater_prune.cc:74: tree pruning end, 1 roots, 524 extra nodes, 0 pruned nodes, max_depth=13\u001b[0m\n",
      "\u001b[34m[64]#011train-mae:3323.12#011validation-mae:12265.8\u001b[0m\n",
      "\u001b[34m[19:47:43] src/tree/updater_prune.cc:74: tree pruning end, 1 roots, 704 extra nodes, 0 pruned nodes, max_depth=13\u001b[0m\n",
      "\u001b[34m[65]#011train-mae:3281.3#011validation-mae:12272.2\u001b[0m\n",
      "\u001b[34m[19:47:43] src/tree/updater_prune.cc:74: tree pruning end, 1 roots, 560 extra nodes, 0 pruned nodes, max_depth=13\u001b[0m\n",
      "\u001b[34m[66]#011train-mae:3253.33#011validation-mae:12277.2\u001b[0m\n",
      "\u001b[34m[19:47:44] src/tree/updater_prune.cc:74: tree pruning end, 1 roots, 302 extra nodes, 0 pruned nodes, max_depth=13\u001b[0m\n",
      "\u001b[34m[67]#011train-mae:3247.95#011validation-mae:12282.6\u001b[0m\n",
      "\u001b[34m[19:47:44] src/tree/updater_prune.cc:74: tree pruning end, 1 roots, 202 extra nodes, 0 pruned nodes, max_depth=13\u001b[0m\n",
      "\u001b[34m[68]#011train-mae:3244.65#011validation-mae:12283.3\u001b[0m\n",
      "\u001b[34m[19:47:44] src/tree/updater_prune.cc:74: tree pruning end, 1 roots, 692 extra nodes, 0 pruned nodes, max_depth=13\u001b[0m\n",
      "\u001b[34m[69]#011train-mae:3215.69#011validation-mae:12299.1\u001b[0m\n",
      "\u001b[34m[19:47:44] src/tree/updater_prune.cc:74: tree pruning end, 1 roots, 690 extra nodes, 0 pruned nodes, max_depth=13\u001b[0m\n",
      "\u001b[34m[70]#011train-mae:3187.11#011validation-mae:12281.6\u001b[0m\n",
      "\u001b[34m[19:47:44] src/tree/updater_prune.cc:74: tree pruning end, 1 roots, 170 extra nodes, 0 pruned nodes, max_depth=13\u001b[0m\n",
      "\u001b[34m[71]#011train-mae:3185.23#011validation-mae:12281.6\u001b[0m\n",
      "\u001b[34m[19:47:45] src/tree/updater_prune.cc:74: tree pruning end, 1 roots, 526 extra nodes, 0 pruned nodes, max_depth=13\u001b[0m\n",
      "\u001b[34m[72]#011train-mae:3162.53#011validation-mae:12276.8\u001b[0m\n",
      "\u001b[34m[19:47:45] src/tree/updater_prune.cc:74: tree pruning end, 1 roots, 494 extra nodes, 0 pruned nodes, max_depth=13\u001b[0m\n",
      "\u001b[34m[73]#011train-mae:3145.47#011validation-mae:12286.1\u001b[0m\n",
      "\u001b[34m[19:47:45] src/tree/updater_prune.cc:74: tree pruning end, 1 roots, 580 extra nodes, 0 pruned nodes, max_depth=13\u001b[0m\n",
      "\u001b[34m[74]#011train-mae:3125.54#011validation-mae:12278.9\u001b[0m\n",
      "\u001b[34m[19:47:45] src/tree/updater_prune.cc:74: tree pruning end, 1 roots, 436 extra nodes, 0 pruned nodes, max_depth=13\u001b[0m\n",
      "\u001b[34m[75]#011train-mae:3113.15#011validation-mae:12278.8\u001b[0m\n",
      "\u001b[34m[19:47:46] src/tree/updater_prune.cc:74: tree pruning end, 1 roots, 516 extra nodes, 0 pruned nodes, max_depth=13\u001b[0m\n",
      "\u001b[34m[76]#011train-mae:3097.36#011validation-mae:12280.2\u001b[0m\n",
      "\u001b[34m[19:47:46] src/tree/updater_prune.cc:74: tree pruning end, 1 roots, 236 extra nodes, 0 pruned nodes, max_depth=13\u001b[0m\n",
      "\u001b[34m[77]#011train-mae:3091.99#011validation-mae:12280.8\u001b[0m\n",
      "\u001b[34m[19:47:46] src/tree/updater_prune.cc:74: tree pruning end, 1 roots, 904 extra nodes, 0 pruned nodes, max_depth=13\u001b[0m\n",
      "\u001b[34m[78]#011train-mae:3053.54#011validation-mae:12284.6\u001b[0m\n",
      "\u001b[34m[19:47:46] src/tree/updater_prune.cc:74: tree pruning end, 1 roots, 474 extra nodes, 0 pruned nodes, max_depth=13\u001b[0m\n",
      "\u001b[34m[79]#011train-mae:3038.53#011validation-mae:12289\u001b[0m\n",
      "\u001b[34m[19:47:46] src/tree/updater_prune.cc:74: tree pruning end, 1 roots, 512 extra nodes, 0 pruned nodes, max_depth=13\u001b[0m\n",
      "\u001b[34m[80]#011train-mae:3017.12#011validation-mae:12298.6\u001b[0m\n",
      "\u001b[34m[19:47:47] src/tree/updater_prune.cc:74: tree pruning end, 1 roots, 326 extra nodes, 0 pruned nodes, max_depth=13\u001b[0m\n",
      "\u001b[34m[81]#011train-mae:3008.84#011validation-mae:12292.4\u001b[0m\n",
      "\u001b[34m[19:47:47] src/tree/updater_prune.cc:74: tree pruning end, 1 roots, 300 extra nodes, 0 pruned nodes, max_depth=13\u001b[0m\n",
      "\u001b[34m[82]#011train-mae:3001.92#011validation-mae:12282.6\u001b[0m\n",
      "\u001b[34m[19:47:47] src/tree/updater_prune.cc:74: tree pruning end, 1 roots, 346 extra nodes, 0 pruned nodes, max_depth=13\u001b[0m\n",
      "\u001b[34m[83]#011train-mae:2992.32#011validation-mae:12283.2\u001b[0m\n",
      "\u001b[34m[19:47:47] src/tree/updater_prune.cc:74: tree pruning end, 1 roots, 872 extra nodes, 0 pruned nodes, max_depth=13\u001b[0m\n",
      "\u001b[34m[84]#011train-mae:2962.79#011validation-mae:12288.4\u001b[0m\n",
      "\u001b[34m[19:47:48] src/tree/updater_prune.cc:74: tree pruning end, 1 roots, 640 extra nodes, 0 pruned nodes, max_depth=13\u001b[0m\n",
      "\u001b[34m[85]#011train-mae:2946.5#011validation-mae:12291.5\u001b[0m\n",
      "\u001b[34m[19:47:48] src/tree/updater_prune.cc:74: tree pruning end, 1 roots, 612 extra nodes, 0 pruned nodes, max_depth=13\u001b[0m\n",
      "\u001b[34m[86]#011train-mae:2922.29#011validation-mae:12297.3\u001b[0m\n",
      "\u001b[34m[19:47:48] src/tree/updater_prune.cc:74: tree pruning end, 1 roots, 646 extra nodes, 0 pruned nodes, max_depth=13\u001b[0m\n",
      "\u001b[34m[87]#011train-mae:2900.79#011validation-mae:12296.9\u001b[0m\n",
      "\u001b[34m[19:47:48] src/tree/updater_prune.cc:74: tree pruning end, 1 roots, 450 extra nodes, 0 pruned nodes, max_depth=13\u001b[0m\n",
      "\u001b[34m[88]#011train-mae:2892.01#011validation-mae:12297.6\u001b[0m\n",
      "\u001b[34m[19:47:48] src/tree/updater_prune.cc:74: tree pruning end, 1 roots, 1124 extra nodes, 0 pruned nodes, max_depth=13\u001b[0m\n",
      "\u001b[34m[89]#011train-mae:2858.16#011validation-mae:12307.1\u001b[0m\n",
      "\u001b[34m[19:47:49] src/tree/updater_prune.cc:74: tree pruning end, 1 roots, 556 extra nodes, 0 pruned nodes, max_depth=13\u001b[0m\n",
      "\u001b[34m[90]#011train-mae:2846.51#011validation-mae:12311.2\u001b[0m\n",
      "\u001b[34m[19:47:49] src/tree/updater_prune.cc:74: tree pruning end, 1 roots, 610 extra nodes, 0 pruned nodes, max_depth=13\u001b[0m\n",
      "\u001b[34m[91]#011train-mae:2824.57#011validation-mae:12306.8\u001b[0m\n",
      "\u001b[34m[19:47:49] src/tree/updater_prune.cc:74: tree pruning end, 1 roots, 496 extra nodes, 0 pruned nodes, max_depth=13\u001b[0m\n",
      "\u001b[34m[92]#011train-mae:2815.45#011validation-mae:12301.4\u001b[0m\n",
      "\u001b[34m[19:47:49] src/tree/updater_prune.cc:74: tree pruning end, 1 roots, 656 extra nodes, 0 pruned nodes, max_depth=13\u001b[0m\n",
      "\u001b[34m[93]#011train-mae:2791.25#011validation-mae:12309.2\u001b[0m\n",
      "\u001b[34m[19:47:50] src/tree/updater_prune.cc:74: tree pruning end, 1 roots, 212 extra nodes, 0 pruned nodes, max_depth=13\u001b[0m\n",
      "\u001b[34m[94]#011train-mae:2787#011validation-mae:12306.6\u001b[0m\n",
      "\u001b[34m[19:47:50] src/tree/updater_prune.cc:74: tree pruning end, 1 roots, 792 extra nodes, 0 pruned nodes, max_depth=13\u001b[0m\n",
      "\u001b[34m[95]#011train-mae:2764.5#011validation-mae:12312.3\u001b[0m\n",
      "\u001b[34m[19:47:50] src/tree/updater_prune.cc:74: tree pruning end, 1 roots, 736 extra nodes, 0 pruned nodes, max_depth=13\u001b[0m\n",
      "\u001b[34m[96]#011train-mae:2748.34#011validation-mae:12309.9\u001b[0m\n",
      "\u001b[34m[19:47:50] src/tree/updater_prune.cc:74: tree pruning end, 1 roots, 556 extra nodes, 0 pruned nodes, max_depth=13\u001b[0m\n",
      "\u001b[34m[97]#011train-mae:2730.51#011validation-mae:12302.8\u001b[0m\n",
      "\u001b[34m[19:47:51] src/tree/updater_prune.cc:74: tree pruning end, 1 roots, 838 extra nodes, 0 pruned nodes, max_depth=13\u001b[0m\n",
      "\u001b[34m[98]#011train-mae:2704.41#011validation-mae:12302.9\u001b[0m\n",
      "\u001b[34m[19:47:51] src/tree/updater_prune.cc:74: tree pruning end, 1 roots, 744 extra nodes, 0 pruned nodes, max_depth=13\u001b[0m\n",
      "\u001b[34m[99]#011train-mae:2690.59#011validation-mae:12301.2\u001b[0m\n"
     ]
    },
    {
     "name": "stdout",
     "output_type": "stream",
     "text": [
      "Training seconds: 86\n",
      "Billable seconds: 86\n"
     ]
    }
   ],
   "source": [
    "model = Estimator.attach(best_job)"
   ]
  },
  {
   "cell_type": "code",
   "execution_count": null,
   "metadata": {},
   "outputs": [
    {
     "name": "stdout",
     "output_type": "stream",
     "text": [
      "-------------------------------------------------------------------------------"
     ]
    }
   ],
   "source": [
    "model_predictor = model.deploy(initial_instance_count=1,\n",
    "                            instance_type='ml.t2.medium')"
   ]
  },
  {
   "cell_type": "code",
   "execution_count": null,
   "metadata": {},
   "outputs": [],
   "source": [
    "# In case you interrupt the notebook, you can create the predictor using the endpoint name.\n",
    "#model_predictor = RealTimePredictor('########')"
   ]
  },
  {
   "cell_type": "code",
   "execution_count": null,
   "metadata": {},
   "outputs": [],
   "source": [
    "model_predictor.content_type = 'text/csv'\n",
    "model_predictor.serializer = csv_serializer\n",
    "model_predictor.deserializer = None"
   ]
  },
  {
   "cell_type": "code",
   "execution_count": null,
   "metadata": {},
   "outputs": [],
   "source": [
    "def predict(data, rows=500):\n",
    "    split_array = np.array_split(data, int(data.shape[0] / float(rows) + 1))\n",
    "    predictions = ''\n",
    "    for array in split_array:\n",
    "        predictions = ','.join([predictions, model_predictor.predict(array).decode('utf-8')])\n",
    "\n",
    "    return np.fromstring(predictions[1:], sep=',')\n",
    "\n",
    "predictions = predict(df.values)"
   ]
  },
  {
   "cell_type": "code",
   "execution_count": null,
   "metadata": {},
   "outputs": [],
   "source": [
    "predictions.shape"
   ]
  },
  {
   "cell_type": "code",
   "execution_count": null,
   "metadata": {},
   "outputs": [],
   "source": [
    "df_predictions  = pd.DataFrame({'id_reseller':id_reseller,'prediction':predictions})"
   ]
  },
  {
   "cell_type": "code",
   "execution_count": null,
   "metadata": {},
   "outputs": [],
   "source": [
    "df_predictions.head()"
   ]
  },
  {
   "cell_type": "markdown",
   "metadata": {},
   "source": [
    "Finally we upload predictions to S3"
   ]
  },
  {
   "cell_type": "code",
   "execution_count": null,
   "metadata": {},
   "outputs": [],
   "source": [
    "df_predictions.to_csv('predictions.csv',index=False)"
   ]
  },
  {
   "cell_type": "code",
   "execution_count": null,
   "metadata": {},
   "outputs": [],
   "source": [
    "boto3.Session().resource('s3').Bucket(bucket).Object(os.path.join(prefix, 'predictions.csv')).upload_file('predictions.csv')"
   ]
  },
  {
   "cell_type": "code",
   "execution_count": null,
   "metadata": {},
   "outputs": [],
   "source": []
  }
 ],
 "metadata": {
  "kernelspec": {
   "display_name": "conda_python2",
   "language": "python",
   "name": "conda_python2"
  },
  "language_info": {
   "codemirror_mode": {
    "name": "ipython",
    "version": 2
   },
   "file_extension": ".py",
   "mimetype": "text/x-python",
   "name": "python",
   "nbconvert_exporter": "python",
   "pygments_lexer": "ipython2",
   "version": "2.7.15"
  }
 },
 "nbformat": 4,
 "nbformat_minor": 2
}
