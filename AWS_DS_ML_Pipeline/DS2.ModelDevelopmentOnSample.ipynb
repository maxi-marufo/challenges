{
 "cells": [
  {
   "cell_type": "code",
   "execution_count": 1,
   "metadata": {},
   "outputs": [],
   "source": [
    "import pandas as pd\n",
    "import numpy as np\n",
    "import sklearn\n",
    "from sklearn.ensemble import RandomForestRegressor\n",
    "import matplotlib.pyplot as plt\n",
    "import awswrangler"
   ]
  },
  {
   "cell_type": "code",
   "execution_count": 2,
   "metadata": {},
   "outputs": [],
   "source": [
    "session = awswrangler.Session()\n",
    "df = session.pandas.read_sql_athena(\n",
    "    sql=\"select * from resellers_sample\",\n",
    "    database=\"implementationdb\"\n",
    ")"
   ]
  },
  {
   "cell_type": "code",
   "execution_count": 4,
   "metadata": {},
   "outputs": [],
   "source": [
    "df_r = session.pandas.read_sql_athena(\n",
    "    sql=\"select * from reseller\",\n",
    "    database=\"implementationdb\"\n",
    ")"
   ]
  },
  {
   "cell_type": "code",
   "execution_count": 5,
   "metadata": {},
   "outputs": [
    {
     "data": {
      "text/html": [
       "<div>\n",
       "<style scoped>\n",
       "    .dataframe tbody tr th:only-of-type {\n",
       "        vertical-align: middle;\n",
       "    }\n",
       "\n",
       "    .dataframe tbody tr th {\n",
       "        vertical-align: top;\n",
       "    }\n",
       "\n",
       "    .dataframe thead th {\n",
       "        text-align: right;\n",
       "    }\n",
       "</style>\n",
       "<table border=\"1\" class=\"dataframe\">\n",
       "  <thead>\n",
       "    <tr style=\"text-align: right;\">\n",
       "      <th></th>\n",
       "      <th>id_reseller</th>\n",
       "      <th>date</th>\n",
       "      <th>bill</th>\n",
       "    </tr>\n",
       "  </thead>\n",
       "  <tbody>\n",
       "    <tr>\n",
       "      <th>0</th>\n",
       "      <td>499926634</td>\n",
       "      <td>2019-01-02</td>\n",
       "      <td>38504.944</td>\n",
       "    </tr>\n",
       "    <tr>\n",
       "      <th>1</th>\n",
       "      <td>499926634</td>\n",
       "      <td>2019-01-04</td>\n",
       "      <td>28435.291</td>\n",
       "    </tr>\n",
       "    <tr>\n",
       "      <th>2</th>\n",
       "      <td>499926634</td>\n",
       "      <td>2019-01-08</td>\n",
       "      <td>60980.544</td>\n",
       "    </tr>\n",
       "    <tr>\n",
       "      <th>3</th>\n",
       "      <td>499926634</td>\n",
       "      <td>2019-01-11</td>\n",
       "      <td>53897.648</td>\n",
       "    </tr>\n",
       "    <tr>\n",
       "      <th>4</th>\n",
       "      <td>499926634</td>\n",
       "      <td>2019-01-15</td>\n",
       "      <td>2280.933</td>\n",
       "    </tr>\n",
       "  </tbody>\n",
       "</table>\n",
       "</div>"
      ],
      "text/plain": [
       "   id_reseller        date       bill\n",
       "0    499926634  2019-01-02  38504.944\n",
       "1    499926634  2019-01-04  28435.291\n",
       "2    499926634  2019-01-08  60980.544\n",
       "3    499926634  2019-01-11  53897.648\n",
       "4    499926634  2019-01-15   2280.933"
      ]
     },
     "execution_count": 5,
     "metadata": {},
     "output_type": "execute_result"
    }
   ],
   "source": [
    "df.head()"
   ]
  },
  {
   "cell_type": "code",
   "execution_count": 6,
   "metadata": {},
   "outputs": [
    {
     "data": {
      "text/html": [
       "<div>\n",
       "<style scoped>\n",
       "    .dataframe tbody tr th:only-of-type {\n",
       "        vertical-align: middle;\n",
       "    }\n",
       "\n",
       "    .dataframe tbody tr th {\n",
       "        vertical-align: top;\n",
       "    }\n",
       "\n",
       "    .dataframe thead th {\n",
       "        text-align: right;\n",
       "    }\n",
       "</style>\n",
       "<table border=\"1\" class=\"dataframe\">\n",
       "  <thead>\n",
       "    <tr style=\"text-align: right;\">\n",
       "      <th></th>\n",
       "      <th>id_reseller</th>\n",
       "      <th>zone</th>\n",
       "      <th>cluster</th>\n",
       "    </tr>\n",
       "  </thead>\n",
       "  <tbody>\n",
       "    <tr>\n",
       "      <th>0</th>\n",
       "      <td>499929090</td>\n",
       "      <td>1019</td>\n",
       "      <td>A</td>\n",
       "    </tr>\n",
       "    <tr>\n",
       "      <th>1</th>\n",
       "      <td>499929094</td>\n",
       "      <td>1019</td>\n",
       "      <td>A</td>\n",
       "    </tr>\n",
       "    <tr>\n",
       "      <th>2</th>\n",
       "      <td>499929097</td>\n",
       "      <td>1019</td>\n",
       "      <td>A</td>\n",
       "    </tr>\n",
       "    <tr>\n",
       "      <th>3</th>\n",
       "      <td>499929098</td>\n",
       "      <td>1019</td>\n",
       "      <td>A</td>\n",
       "    </tr>\n",
       "    <tr>\n",
       "      <th>4</th>\n",
       "      <td>499929163</td>\n",
       "      <td>1014</td>\n",
       "      <td>A</td>\n",
       "    </tr>\n",
       "  </tbody>\n",
       "</table>\n",
       "</div>"
      ],
      "text/plain": [
       "   id_reseller  zone cluster\n",
       "0    499929090  1019       A\n",
       "1    499929094  1019       A\n",
       "2    499929097  1019       A\n",
       "3    499929098  1019       A\n",
       "4    499929163  1014       A"
      ]
     },
     "execution_count": 6,
     "metadata": {},
     "output_type": "execute_result"
    }
   ],
   "source": [
    "df_r.head()"
   ]
  },
  {
   "cell_type": "code",
   "execution_count": 7,
   "metadata": {},
   "outputs": [
    {
     "name": "stdout",
     "output_type": "stream",
     "text": [
      "<class 'pandas.core.frame.DataFrame'>\n",
      "RangeIndex: 47407 entries, 0 to 47406\n",
      "Data columns (total 3 columns):\n",
      "id_reseller    47407 non-null Int64\n",
      "date           47407 non-null object\n",
      "bill           47407 non-null float64\n",
      "dtypes: Int64(1), float64(1), object(1)\n",
      "memory usage: 1.1+ MB\n"
     ]
    }
   ],
   "source": [
    "df.info()"
   ]
  },
  {
   "cell_type": "code",
   "execution_count": 8,
   "metadata": {},
   "outputs": [
    {
     "name": "stdout",
     "output_type": "stream",
     "text": [
      "<class 'pandas.core.frame.DataFrame'>\n",
      "RangeIndex: 12358 entries, 0 to 12357\n",
      "Data columns (total 3 columns):\n",
      "id_reseller    12358 non-null Int64\n",
      "zone           12358 non-null Int64\n",
      "cluster        12358 non-null object\n",
      "dtypes: Int64(2), object(1)\n",
      "memory usage: 313.9+ KB\n"
     ]
    }
   ],
   "source": [
    "df_r.info()"
   ]
  },
  {
   "cell_type": "code",
   "execution_count": 9,
   "metadata": {},
   "outputs": [],
   "source": [
    "df['date'] = pd.to_datetime(df['date'])"
   ]
  },
  {
   "cell_type": "markdown",
   "metadata": {},
   "source": [
    "### Filter Last 4 Months"
   ]
  },
  {
   "cell_type": "code",
   "execution_count": 10,
   "metadata": {},
   "outputs": [],
   "source": [
    "max_date = df['date'].max()\n",
    "min_date = max_date - pd.to_timedelta(120, unit='d')\n",
    "df = df[df['date'] > min_date]"
   ]
  },
  {
   "cell_type": "markdown",
   "metadata": {},
   "source": [
    "## Exploratory Data Analysis"
   ]
  },
  {
   "cell_type": "code",
   "execution_count": 11,
   "metadata": {},
   "outputs": [
    {
     "data": {
      "image/png": "[encoded data removed]",
      "text/plain": [
       "<Figure size 432x288 with 1 Axes>"
      ]
     },
     "metadata": {},
     "output_type": "display_data"
    }
   ],
   "source": [
    "plt.hist(df[df[\"bill\"] < df[\"bill\"].quantile(0.95)]['bill']);"
   ]
  },
  {
   "cell_type": "markdown",
   "metadata": {},
   "source": [
    "### Mean by day\n",
    "\n",
    "Let's also analyse the mean by day to see if there's a trend or pattern in time"
   ]
  },
  {
   "cell_type": "code",
   "execution_count": 12,
   "metadata": {},
   "outputs": [],
   "source": [
    "df_mean_by_day = df.groupby('date')['bill'].mean()"
   ]
  },
  {
   "cell_type": "code",
   "execution_count": 13,
   "metadata": {},
   "outputs": [],
   "source": [
    "r = pd.date_range(start=min_date, end=max_date)\n",
    "df_mean_by_day = df_mean_by_day.reindex(r).rename_axis('date').reset_index().fillna(0)"
   ]
  },
  {
   "cell_type": "code",
   "execution_count": 14,
   "metadata": {},
   "outputs": [
    {
     "data": {
      "image/png": "[encoded data removed]",
      "text/plain": [
       "<Figure size 432x288 with 1 Axes>"
      ]
     },
     "metadata": {},
     "output_type": "display_data"
    }
   ],
   "source": [
    "from pandas.plotting import register_matplotlib_converters\n",
    "register_matplotlib_converters()\n",
    "\n",
    "plt.plot(df_mean_by_day['date'], df_mean_by_day['bill'])\n",
    "plt.xticks(rotation='vertical');"
   ]
  },
  {
   "cell_type": "code",
   "execution_count": 15,
   "metadata": {},
   "outputs": [],
   "source": [
    "def completeItem(dfItem):\n",
    "    min_date = dfItem['date'].min()\n",
    "    max_date = dfItem['date'].max()\n",
    "    if min_date == max_date:\n",
    "        #only one data point\n",
    "        return\n",
    "    r = pd.date_range(start=min_date, end=max_date)\n",
    "    dfItemNew = dfItem.set_index('date').reindex(r).rename_axis('date').reset_index()\n",
    "    \n",
    "    dfItemNew['mean-last-30'] = dfItemNew['bill'].rolling(30,min_periods=1).mean().reset_index()['bill']\n",
    "    dfItemNew['mean-last-7'] = dfItemNew['bill'].rolling(7,min_periods=1).mean().reset_index()['bill']\n",
    "    dfItemNew['std-last-30'] = dfItemNew['bill'].rolling(30,min_periods=1).std().reset_index()['bill']\n",
    "    dfItemNew['bill'] = dfItemNew['bill'].fillna(0)\n",
    "    dfItemNew['id_reseller'] = dfItem['id_reseller'].max()\n",
    "    dfItemNew['std-last-30'].fillna(method='ffill',inplace=True)\n",
    "    dfItemNew['mean-last-7'].fillna(method='ffill',inplace=True)\n",
    "    dfItemNew['std-last-30'].fillna(method='ffill',inplace=True)\n",
    "    resp = []\n",
    "    counter = 0\n",
    "    for index,row in dfItemNew.iterrows(): \n",
    "        resp.append(counter)\n",
    "        if row['bill'] == 0: \n",
    "            counter += 1 \n",
    "        else:\n",
    "            counter = 0\n",
    "    dfItemNew['days_without_purchase'] = pd.Series(resp)\n",
    "    return dfItemNew"
   ]
  },
  {
   "cell_type": "code",
   "execution_count": 16,
   "metadata": {},
   "outputs": [
    {
     "name": "stdout",
     "output_type": "stream",
     "text": [
      "processed 200 resellers\n",
      "processed 400 resellers\n",
      "processed 600 resellers\n",
      "processed 800 resellers\n",
      "processed 1000 resellers\n",
      "processed 1200 resellers\n"
     ]
    }
   ],
   "source": [
    "i = 0\n",
    "dfCompletedList = []\n",
    "for nid,item in df.groupby('id_reseller'):\n",
    "    i = i+1\n",
    "    if i%200 == 0:\n",
    "        print ('processed {} resellers'.format(str(i)))\n",
    "    dfCompletedList.append(completeItem(item))"
   ]
  },
  {
   "cell_type": "code",
   "execution_count": 17,
   "metadata": {},
   "outputs": [],
   "source": [
    "df = pd.concat(dfCompletedList).copy()\n",
    "del dfCompletedList\n",
    "df['weekday']  = df['date'].dt.weekday_name\n"
   ]
  },
  {
   "cell_type": "code",
   "execution_count": 18,
   "metadata": {},
   "outputs": [],
   "source": [
    "df['next_bill'] = df.replace(0,np.nan).groupby('id_reseller')['bill'].fillna(method='bfill')"
   ]
  },
  {
   "cell_type": "code",
   "execution_count": 19,
   "metadata": {},
   "outputs": [],
   "source": [
    "df['last_bill'] = df.replace(0,np.nan).groupby('id_reseller')['bill'].fillna(method='ffill').copy()\n",
    "different_zero = df['last_bill'].shift(1)\n",
    "df.loc[df['bill'] != 0,'last_bill'] = np.nan\n",
    "df['last_bill'] = df['last_bill'].fillna(different_zero)"
   ]
  },
  {
   "cell_type": "code",
   "execution_count": 20,
   "metadata": {},
   "outputs": [
    {
     "data": {
      "text/html": [
       "<div>\n",
       "<style scoped>\n",
       "    .dataframe tbody tr th:only-of-type {\n",
       "        vertical-align: middle;\n",
       "    }\n",
       "\n",
       "    .dataframe tbody tr th {\n",
       "        vertical-align: top;\n",
       "    }\n",
       "\n",
       "    .dataframe thead th {\n",
       "        text-align: right;\n",
       "    }\n",
       "</style>\n",
       "<table border=\"1\" class=\"dataframe\">\n",
       "  <thead>\n",
       "    <tr style=\"text-align: right;\">\n",
       "      <th></th>\n",
       "      <th>date</th>\n",
       "      <th>id_reseller</th>\n",
       "      <th>bill</th>\n",
       "      <th>mean-last-30</th>\n",
       "      <th>mean-last-7</th>\n",
       "      <th>std-last-30</th>\n",
       "      <th>days_without_purchase</th>\n",
       "      <th>weekday</th>\n",
       "      <th>next_bill</th>\n",
       "      <th>last_bill</th>\n",
       "    </tr>\n",
       "  </thead>\n",
       "  <tbody>\n",
       "    <tr>\n",
       "      <th>0</th>\n",
       "      <td>2019-01-24</td>\n",
       "      <td>499921278</td>\n",
       "      <td>14359.705</td>\n",
       "      <td>14359.705000</td>\n",
       "      <td>14359.705000</td>\n",
       "      <td>NaN</td>\n",
       "      <td>0</td>\n",
       "      <td>Thursday</td>\n",
       "      <td>14359.705</td>\n",
       "      <td>NaN</td>\n",
       "    </tr>\n",
       "    <tr>\n",
       "      <th>1</th>\n",
       "      <td>2019-01-25</td>\n",
       "      <td>499921278</td>\n",
       "      <td>0.000</td>\n",
       "      <td>14359.705000</td>\n",
       "      <td>14359.705000</td>\n",
       "      <td>NaN</td>\n",
       "      <td>0</td>\n",
       "      <td>Friday</td>\n",
       "      <td>19482.104</td>\n",
       "      <td>14359.705</td>\n",
       "    </tr>\n",
       "    <tr>\n",
       "      <th>2</th>\n",
       "      <td>2019-01-26</td>\n",
       "      <td>499921278</td>\n",
       "      <td>19482.104</td>\n",
       "      <td>16920.904500</td>\n",
       "      <td>16920.904500</td>\n",
       "      <td>3622.083069</td>\n",
       "      <td>1</td>\n",
       "      <td>Saturday</td>\n",
       "      <td>19482.104</td>\n",
       "      <td>14359.705</td>\n",
       "    </tr>\n",
       "    <tr>\n",
       "      <th>3</th>\n",
       "      <td>2019-01-27</td>\n",
       "      <td>499921278</td>\n",
       "      <td>0.000</td>\n",
       "      <td>16920.904500</td>\n",
       "      <td>16920.904500</td>\n",
       "      <td>3622.083069</td>\n",
       "      <td>0</td>\n",
       "      <td>Sunday</td>\n",
       "      <td>10732.835</td>\n",
       "      <td>19482.104</td>\n",
       "    </tr>\n",
       "    <tr>\n",
       "      <th>4</th>\n",
       "      <td>2019-01-28</td>\n",
       "      <td>499921278</td>\n",
       "      <td>10732.835</td>\n",
       "      <td>14858.214667</td>\n",
       "      <td>14858.214667</td>\n",
       "      <td>4395.885681</td>\n",
       "      <td>1</td>\n",
       "      <td>Monday</td>\n",
       "      <td>10732.835</td>\n",
       "      <td>19482.104</td>\n",
       "    </tr>\n",
       "  </tbody>\n",
       "</table>\n",
       "</div>"
      ],
      "text/plain": [
       "        date  id_reseller       bill  mean-last-30   mean-last-7  std-last-30  \\\n",
       "0 2019-01-24    499921278  14359.705  14359.705000  14359.705000          NaN   \n",
       "1 2019-01-25    499921278      0.000  14359.705000  14359.705000          NaN   \n",
       "2 2019-01-26    499921278  19482.104  16920.904500  16920.904500  3622.083069   \n",
       "3 2019-01-27    499921278      0.000  16920.904500  16920.904500  3622.083069   \n",
       "4 2019-01-28    499921278  10732.835  14858.214667  14858.214667  4395.885681   \n",
       "\n",
       "   days_without_purchase   weekday  next_bill  last_bill  \n",
       "0                      0  Thursday  14359.705        NaN  \n",
       "1                      0    Friday  19482.104  14359.705  \n",
       "2                      1  Saturday  19482.104  14359.705  \n",
       "3                      0    Sunday  10732.835  19482.104  \n",
       "4                      1    Monday  10732.835  19482.104  "
      ]
     },
     "execution_count": 20,
     "metadata": {},
     "output_type": "execute_result"
    }
   ],
   "source": [
    "df.head()"
   ]
  },
  {
   "cell_type": "code",
   "execution_count": 21,
   "metadata": {},
   "outputs": [
    {
     "data": {
      "text/plain": [
       "(145136, 10)"
      ]
     },
     "execution_count": 21,
     "metadata": {},
     "output_type": "execute_result"
    }
   ],
   "source": [
    "df.shape"
   ]
  },
  {
   "cell_type": "code",
   "execution_count": 22,
   "metadata": {},
   "outputs": [
    {
     "name": "stdout",
     "output_type": "stream",
     "text": [
      "<class 'pandas.core.frame.DataFrame'>\n",
      "Int64Index: 145136 entries, 0 to 102\n",
      "Data columns (total 10 columns):\n",
      "date                     145136 non-null datetime64[ns]\n",
      "id_reseller              145136 non-null int64\n",
      "bill                     145136 non-null float64\n",
      "mean-last-30             145128 non-null float64\n",
      "mean-last-7              145136 non-null float64\n",
      "std-last-30              140704 non-null float64\n",
      "days_without_purchase    145136 non-null int64\n",
      "weekday                  145136 non-null object\n",
      "next_bill                145136 non-null float64\n",
      "last_bill                145135 non-null float64\n",
      "dtypes: datetime64[ns](1), float64(6), int64(2), object(1)\n",
      "memory usage: 17.2+ MB\n"
     ]
    }
   ],
   "source": [
    "df.info()"
   ]
  },
  {
   "cell_type": "code",
   "execution_count": 23,
   "metadata": {},
   "outputs": [],
   "source": [
    "df = df.dropna().copy()"
   ]
  },
  {
   "cell_type": "code",
   "execution_count": 24,
   "metadata": {},
   "outputs": [],
   "source": [
    "#We meassure success computing how many resellers did we predict with less than 15% error.\n",
    "def score_15(y,preds):\n",
    "    return np.sum(np.abs((preds-y)/y) <= 0.15 )/ len(preds)"
   ]
  },
  {
   "cell_type": "code",
   "execution_count": 25,
   "metadata": {},
   "outputs": [
    {
     "data": {
      "text/plain": [
       "0.2252089611644965"
      ]
     },
     "execution_count": 25,
     "metadata": {},
     "output_type": "execute_result"
    }
   ],
   "source": [
    "score_15(df['next_bill'],df['last_bill'])"
   ]
  },
  {
   "cell_type": "code",
   "execution_count": 26,
   "metadata": {},
   "outputs": [],
   "source": [
    "df = pd.concat([df,pd.get_dummies(df.weekday)],axis=1)"
   ]
  },
  {
   "cell_type": "code",
   "execution_count": 27,
   "metadata": {},
   "outputs": [],
   "source": [
    "val_resellers = list(pd.Series(df['id_reseller'].unique()).sample(frac=0.1))\n",
    "df_train = df[~df['id_reseller'].isin(val_resellers)].sample(frac=1)\n",
    "df_validation = df[df['id_reseller'].isin(val_resellers)].sample(frac=1)"
   ]
  },
  {
   "cell_type": "code",
   "execution_count": 28,
   "metadata": {},
   "outputs": [
    {
     "data": {
      "text/html": [
       "<div>\n",
       "<style scoped>\n",
       "    .dataframe tbody tr th:only-of-type {\n",
       "        vertical-align: middle;\n",
       "    }\n",
       "\n",
       "    .dataframe tbody tr th {\n",
       "        vertical-align: top;\n",
       "    }\n",
       "\n",
       "    .dataframe thead th {\n",
       "        text-align: right;\n",
       "    }\n",
       "</style>\n",
       "<table border=\"1\" class=\"dataframe\">\n",
       "  <thead>\n",
       "    <tr style=\"text-align: right;\">\n",
       "      <th></th>\n",
       "      <th>date</th>\n",
       "      <th>id_reseller</th>\n",
       "      <th>bill</th>\n",
       "      <th>mean-last-30</th>\n",
       "      <th>mean-last-7</th>\n",
       "      <th>std-last-30</th>\n",
       "      <th>days_without_purchase</th>\n",
       "      <th>weekday</th>\n",
       "      <th>next_bill</th>\n",
       "      <th>last_bill</th>\n",
       "      <th>Friday</th>\n",
       "      <th>Monday</th>\n",
       "      <th>Saturday</th>\n",
       "      <th>Sunday</th>\n",
       "      <th>Thursday</th>\n",
       "      <th>Tuesday</th>\n",
       "      <th>Wednesday</th>\n",
       "    </tr>\n",
       "  </thead>\n",
       "  <tbody>\n",
       "    <tr>\n",
       "      <th>90</th>\n",
       "      <td>2019-04-22</td>\n",
       "      <td>500606842</td>\n",
       "      <td>0.00</td>\n",
       "      <td>13825.895125</td>\n",
       "      <td>19043.1375</td>\n",
       "      <td>3758.494314</td>\n",
       "      <td>1</td>\n",
       "      <td>Monday</td>\n",
       "      <td>18210.664</td>\n",
       "      <td>15911.492</td>\n",
       "      <td>0</td>\n",
       "      <td>1</td>\n",
       "      <td>0</td>\n",
       "      <td>0</td>\n",
       "      <td>0</td>\n",
       "      <td>0</td>\n",
       "      <td>0</td>\n",
       "    </tr>\n",
       "    <tr>\n",
       "      <th>111</th>\n",
       "      <td>2019-05-15</td>\n",
       "      <td>499975395</td>\n",
       "      <td>0.00</td>\n",
       "      <td>6085.560143</td>\n",
       "      <td>7513.0190</td>\n",
       "      <td>2292.000519</td>\n",
       "      <td>1</td>\n",
       "      <td>Wednesday</td>\n",
       "      <td>5294.600</td>\n",
       "      <td>5238.112</td>\n",
       "      <td>0</td>\n",
       "      <td>0</td>\n",
       "      <td>0</td>\n",
       "      <td>0</td>\n",
       "      <td>0</td>\n",
       "      <td>0</td>\n",
       "      <td>1</td>\n",
       "    </tr>\n",
       "    <tr>\n",
       "      <th>80</th>\n",
       "      <td>2019-04-12</td>\n",
       "      <td>500606293</td>\n",
       "      <td>5884.09</td>\n",
       "      <td>6165.017111</td>\n",
       "      <td>6228.7335</td>\n",
       "      <td>990.045107</td>\n",
       "      <td>2</td>\n",
       "      <td>Friday</td>\n",
       "      <td>5884.090</td>\n",
       "      <td>6573.377</td>\n",
       "      <td>1</td>\n",
       "      <td>0</td>\n",
       "      <td>0</td>\n",
       "      <td>0</td>\n",
       "      <td>0</td>\n",
       "      <td>0</td>\n",
       "      <td>0</td>\n",
       "    </tr>\n",
       "    <tr>\n",
       "      <th>57</th>\n",
       "      <td>2019-03-21</td>\n",
       "      <td>499970029</td>\n",
       "      <td>0.00</td>\n",
       "      <td>4770.620571</td>\n",
       "      <td>4503.0780</td>\n",
       "      <td>1454.955447</td>\n",
       "      <td>0</td>\n",
       "      <td>Thursday</td>\n",
       "      <td>4013.086</td>\n",
       "      <td>3606.515</td>\n",
       "      <td>0</td>\n",
       "      <td>0</td>\n",
       "      <td>0</td>\n",
       "      <td>0</td>\n",
       "      <td>1</td>\n",
       "      <td>0</td>\n",
       "      <td>0</td>\n",
       "    </tr>\n",
       "    <tr>\n",
       "      <th>79</th>\n",
       "      <td>2019-04-12</td>\n",
       "      <td>500746742</td>\n",
       "      <td>0.00</td>\n",
       "      <td>20040.483625</td>\n",
       "      <td>19462.1860</td>\n",
       "      <td>4048.623048</td>\n",
       "      <td>0</td>\n",
       "      <td>Friday</td>\n",
       "      <td>14904.713</td>\n",
       "      <td>18918.788</td>\n",
       "      <td>1</td>\n",
       "      <td>0</td>\n",
       "      <td>0</td>\n",
       "      <td>0</td>\n",
       "      <td>0</td>\n",
       "      <td>0</td>\n",
       "      <td>0</td>\n",
       "    </tr>\n",
       "  </tbody>\n",
       "</table>\n",
       "</div>"
      ],
      "text/plain": [
       "          date  id_reseller     bill  mean-last-30  mean-last-7  std-last-30  \\\n",
       "90  2019-04-22    500606842     0.00  13825.895125   19043.1375  3758.494314   \n",
       "111 2019-05-15    499975395     0.00   6085.560143    7513.0190  2292.000519   \n",
       "80  2019-04-12    500606293  5884.09   6165.017111    6228.7335   990.045107   \n",
       "57  2019-03-21    499970029     0.00   4770.620571    4503.0780  1454.955447   \n",
       "79  2019-04-12    500746742     0.00  20040.483625   19462.1860  4048.623048   \n",
       "\n",
       "     days_without_purchase    weekday  next_bill  last_bill  Friday  Monday  \\\n",
       "90                       1     Monday  18210.664  15911.492       0       1   \n",
       "111                      1  Wednesday   5294.600   5238.112       0       0   \n",
       "80                       2     Friday   5884.090   6573.377       1       0   \n",
       "57                       0   Thursday   4013.086   3606.515       0       0   \n",
       "79                       0     Friday  14904.713  18918.788       1       0   \n",
       "\n",
       "     Saturday  Sunday  Thursday  Tuesday  Wednesday  \n",
       "90          0       0         0        0          0  \n",
       "111         0       0         0        0          1  \n",
       "80          0       0         0        0          0  \n",
       "57          0       0         1        0          0  \n",
       "79          0       0         0        0          0  "
      ]
     },
     "execution_count": 28,
     "metadata": {},
     "output_type": "execute_result"
    }
   ],
   "source": [
    "df_train.head()"
   ]
  },
  {
   "cell_type": "code",
   "execution_count": 29,
   "metadata": {},
   "outputs": [
    {
     "data": {
      "text/plain": [
       "Index(['date', 'id_reseller', 'bill', 'mean-last-30', 'mean-last-7',\n",
       "       'std-last-30', 'days_without_purchase', 'weekday', 'next_bill',\n",
       "       'last_bill', 'Friday', 'Monday', 'Saturday', 'Sunday', 'Thursday',\n",
       "       'Tuesday', 'Wednesday'],\n",
       "      dtype='object')"
      ]
     },
     "execution_count": 29,
     "metadata": {},
     "output_type": "execute_result"
    }
   ],
   "source": [
    "df_train.columns"
   ]
  },
  {
   "cell_type": "code",
   "execution_count": 30,
   "metadata": {},
   "outputs": [],
   "source": [
    "X_train = df_train[['mean-last-30', 'mean-last-7',\n",
    "       'std-last-30', 'days_without_purchase','last_bill', 'Friday', 'Monday', 'Saturday', 'Sunday', 'Thursday',\n",
    "       'Tuesday', 'Wednesday']]"
   ]
  },
  {
   "cell_type": "code",
   "execution_count": 31,
   "metadata": {},
   "outputs": [],
   "source": [
    "y_train = df_train['next_bill']"
   ]
  },
  {
   "cell_type": "code",
   "execution_count": 32,
   "metadata": {},
   "outputs": [],
   "source": [
    "X_test = df_validation[['mean-last-30', 'mean-last-7',\n",
    "       'std-last-30', 'days_without_purchase','last_bill', 'Friday', 'Monday', 'Saturday', 'Sunday', 'Thursday',\n",
    "       'Tuesday', 'Wednesday']]"
   ]
  },
  {
   "cell_type": "code",
   "execution_count": 33,
   "metadata": {},
   "outputs": [],
   "source": [
    "y_test = df_validation['next_bill']"
   ]
  },
  {
   "cell_type": "code",
   "execution_count": 34,
   "metadata": {},
   "outputs": [],
   "source": [
    "model = RandomForestRegressor(n_estimators=40,n_jobs=-1)"
   ]
  },
  {
   "cell_type": "code",
   "execution_count": 35,
   "metadata": {},
   "outputs": [
    {
     "data": {
      "text/plain": [
       "RandomForestRegressor(bootstrap=True, criterion='mse', max_depth=None,\n",
       "           max_features='auto', max_leaf_nodes=None,\n",
       "           min_impurity_decrease=0.0, min_impurity_split=None,\n",
       "           min_samples_leaf=1, min_samples_split=2,\n",
       "           min_weight_fraction_leaf=0.0, n_estimators=40, n_jobs=-1,\n",
       "           oob_score=False, random_state=None, verbose=0, warm_start=False)"
      ]
     },
     "execution_count": 35,
     "metadata": {},
     "output_type": "execute_result"
    }
   ],
   "source": [
    "model.fit(X_train,y_train)"
   ]
  },
  {
   "cell_type": "code",
   "execution_count": 36,
   "metadata": {},
   "outputs": [],
   "source": [
    "preds = model.predict(X_test)"
   ]
  },
  {
   "cell_type": "code",
   "execution_count": 37,
   "metadata": {},
   "outputs": [
    {
     "data": {
      "text/plain": [
       "0.34809496730167755"
      ]
     },
     "execution_count": 37,
     "metadata": {},
     "output_type": "execute_result"
    }
   ],
   "source": [
    "score_15(y_test,preds)"
   ]
  },
  {
   "cell_type": "code",
   "execution_count": 38,
   "metadata": {
    "scrolled": true
   },
   "outputs": [
    {
     "data": {
      "image/png": "[encoded data removed]",
      "text/plain": [
       "<Figure size 432x288 with 1 Axes>"
      ]
     },
     "metadata": {},
     "output_type": "display_data"
    }
   ],
   "source": [
    "objects = X_train.columns\n",
    "y_pos = np.arange(len(objects))\n",
    "performance = model.feature_importances_\n",
    "\n",
    "plt.barh(y_pos, performance, align='center', alpha=0.5)\n",
    "plt.yticks(y_pos, objects);"
   ]
  },
  {
   "cell_type": "code",
   "execution_count": null,
   "metadata": {},
   "outputs": [],
   "source": []
  }
 ],
 "metadata": {
  "kernelspec": {
   "display_name": "conda_python3",
   "language": "python",
   "name": "conda_python3"
  },
  "language_info": {
   "codemirror_mode": {
    "name": "ipython",
    "version": 3
   },
   "file_extension": ".py",
   "mimetype": "text/x-python",
   "name": "python",
   "nbconvert_exporter": "python",
   "pygments_lexer": "ipython3",
   "version": "3.6.5"
  }
 },
 "nbformat": 4,
 "nbformat_minor": 2
}
