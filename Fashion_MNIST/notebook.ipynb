{
 "cells": [
  {
   "cell_type": "markdown",
   "metadata": {},
   "source": [
    "# Task Topic: Fashion-MNIST\n",
    "\n",
    "## Task:\n",
    "\n",
    "Train CNN network(s) which reach(es) accuracies around 95% on the Fashion-MNIST dataset (https://github.com/zalandoresearch/fashion-mnist), still efficient for the task (not to much time and hardware specs)."
   ]
  },
  {
   "cell_type": "code",
   "execution_count": 1,
   "metadata": {},
   "outputs": [
    {
     "name": "stderr",
     "output_type": "stream",
     "text": [
      "Using TensorFlow backend.\n"
     ]
    }
   ],
   "source": [
    "from __future__ import absolute_import, division, print_function, unicode_literals\n",
    "\n",
    "# Import the necessary packages from Keras\n",
    "from keras import backend as K\n",
    "from keras.models import Sequential\n",
    "from keras.layers import Conv2D, MaxPooling2D\n",
    "from keras.layers.normalization import BatchNormalization\n",
    "from keras.layers.core import Activation, Flatten, Dropout, Dense\n",
    "from keras.optimizers import SGD, RMSprop, Adagrad, Adadelta, Adam, Adamax, Nadam\n",
    "from keras.datasets import fashion_mnist\n",
    "from keras.preprocessing.image import ImageDataGenerator\n",
    "from keras import callbacks\n",
    "\n",
    "# Import necessary Python built-ins\n",
    "import time\n",
    "import os\n",
    "\n",
    "# Import other necessary packages\n",
    "from sklearn.metrics import classification_report\n",
    "from sklearn.model_selection import train_test_split\n",
    "import matplotlib.pyplot as plt\n",
    "import numpy as np\n",
    "import pandas as pd\n"
   ]
  },
  {
   "cell_type": "markdown",
   "metadata": {},
   "source": [
    "I will implement several CNN tuning some of the hyperparameters, but for simplicity and based on some experienced, and also because of training time and hardware limitations, I will keep an archictecture consisting of:\n",
    "    \n",
    "    - 2 Conv Layers with X filters + DropOut with alpha probability\n",
    "    - 2 Conv Layers with Y filters + DropOut with beta probability\n",
    "    - 1 FullConnected Layer with Z neurons + DropOut with gamma probability\n",
    "\n",
    "and, for simplicity and suitable configuration, I will be using these fixed  hyperparameters / architecture\n",
    "configurations for all of them:\n",
    "    \n",
    "    - Fixed kernel sized: size of the kernel for convolutions\n",
    "    - Fixed strides: defines how many pixels to move for next convolution\n",
    "    - Padding: to keep same input-ouput size after convolutions\n",
    "    - ReLu activations: helps to alleviate the vanishing and exploding gradient problem\n",
    "    - Fixed pool size: downsampling for reducing the spatial dimension, and also helps avoid overfitting\n",
    "    - BatchNormalization: Improves stability, simplifies hyperparameters tuning, and reduces number of epochs (at the expense of an increase in per-epoch time)\n",
    "    - DropOut: regularization technique that prevents overfitting\n",
    "    - Kernel Initializer: sets the initial values of the weights (based on some random distribution)\n",
    "    - Final SoftMax Activation: For multi-class classification"
   ]
  },
  {
   "cell_type": "code",
   "execution_count": 2,
   "metadata": {},
   "outputs": [],
   "source": [
    "## MODEL ARCHITECTURE CLASS\n",
    "\n",
    "class MiniVGGNet:\n",
    "    @staticmethod\n",
    "    def build(width, height, depth, classes, first_cv_filters, second_cv_filters,\n",
    "              first_cv_dropout, second_cv_dropout, fc_nodes, fc_dropout):\n",
    "        # initialize the model along with the input shape to be\n",
    "        # \"channels last\" and the channels dimension itself\n",
    "        model = Sequential()\n",
    "        inputShape = (height, width, depth)\n",
    "        chanDim = -1\n",
    "\n",
    "        # if we are using \"channels first\", update the input shape\n",
    "        # and channels dimension\n",
    "        if K.image_data_format() == \"channels_first\":\n",
    "            inputShape = (depth, height, width)\n",
    "            chanDim = 1\n",
    "\n",
    "        # These are the hyperparameters that I will not be tuning\n",
    "        kernel_size = (3, 3)\n",
    "        strides = (1, 1)\n",
    "        padding = \"same\"\n",
    "        activation = \"relu\"\n",
    "        pool_size = (2, 2)\n",
    "        use_bias = False # No need for bias when using BatchNormalization\n",
    "        kernel_initializer = 'glorot_uniform' # http://jmlr.org/proceedings/papers/v9/glorot10a/glorot10a.pdf\n",
    "        # kernel_initializer = 'glorot_normal' # http://jmlr.org/proceedings/papers/v9/glorot10a/glorot10a.pdf\n",
    "        # kernel_initializer = 'he_uniform' # http://arxiv.org/aMINI_BATCH_SIZE/1502.01852\n",
    "        # kernel_initializer = 'he_normal' # http://arxiv.org/aMINI_BATCH_SIZE/1502.01852\n",
    "        # kernel_initializer = 'variance_scaling' # http://arxiv.org/aMINI_BATCH_SIZE/1312.6120\n",
    "\n",
    "        # first CONV => RELU => CONV => RELU => POOL layer set\n",
    "        model.add(Conv2D(filters=first_cv_filters, kernel_size=kernel_size, strides=strides,\n",
    "                         padding=padding, activation=activation, use_bias=use_bias,\n",
    "                         kernel_initializer=kernel_initializer,\n",
    "                         input_shape=inputShape))\n",
    "        model.add(BatchNormalization(axis=chanDim))\n",
    "        model.add(Conv2D(filters=first_cv_filters, kernel_size=kernel_size, strides=strides,\n",
    "                         padding=padding, activation=activation, use_bias=use_bias,\n",
    "                         kernel_initializer=kernel_initializer))\n",
    "        model.add(BatchNormalization(axis=chanDim))\n",
    "        model.add(MaxPooling2D(pool_size=pool_size))\n",
    "        model.add(Dropout(first_cv_dropout))\n",
    "\n",
    "        # second CONV => RELU => CONV => RELU => POOL layer set\n",
    "        model.add(Conv2D(filters=second_cv_filters, kernel_size=kernel_size, strides=strides,\n",
    "                         padding=padding, activation=activation, use_bias=use_bias,\n",
    "                         kernel_initializer=kernel_initializer))\n",
    "        model.add(BatchNormalization(axis=chanDim))\n",
    "        model.add(Conv2D(filters=second_cv_filters, kernel_size=kernel_size, strides=strides,\n",
    "                         padding=padding, activation=activation, use_bias=use_bias,\n",
    "                         kernel_initializer=kernel_initializer))\n",
    "        model.add(BatchNormalization(axis=chanDim))\n",
    "        model.add(MaxPooling2D(pool_size=pool_size))\n",
    "        model.add(Dropout(second_cv_dropout))\n",
    "\n",
    "        # first (and only) set of FC => RELU layers\n",
    "        model.add(Flatten())\n",
    "        model.add(Dense(fc_nodes))\n",
    "        model.add(Activation(activation))\n",
    "        model.add(BatchNormalization())\n",
    "        model.add(Dropout(fc_dropout))\n",
    "\n",
    "        # softmax classifier\n",
    "        model.add(Dense(classes))\n",
    "        model.add(Activation(\"softmax\")) # multi-class classification\n",
    "\n",
    "        # return the constructed network architecture\n",
    "        return model"
   ]
  },
  {
   "cell_type": "markdown",
   "metadata": {},
   "source": [
    "Now, we will load the Fashion-MNIST dataset, and configuring some variables that we will use later"
   ]
  },
  {
   "cell_type": "code",
   "execution_count": 3,
   "metadata": {},
   "outputs": [
    {
     "name": "stdout",
     "output_type": "stream",
     "text": [
      "[INFO] loading Fashion MNIST...\n"
     ]
    }
   ],
   "source": [
    "## DATASET CONFIGURATION\n",
    "\n",
    "# Load and configure Dataset\n",
    "print(\"[INFO] loading Fashion MNIST...\")\n",
    "((trainX, trainY), (testX, testY)) = fashion_mnist.load_data()\n",
    "\n",
    "# Class names (not in load_data)\n",
    "labelNames = ['T-shirt/top', 'Trouser', 'Pullover', 'Dress', 'Coat',\n",
    "              'Sandal', 'Shirt', 'Sneaker', 'Bag', 'Ankle boot']\n",
    "\n",
    "# Dataset parameters\n",
    "width = 28\n",
    "height = 28\n",
    "depth = 1\n",
    "numLabels = len(labelNames)\n",
    "\n",
    "# num_samples x depth x rows x columns\n",
    "if K.image_data_format() == \"channels_first\":\n",
    "    trainX = trainX.reshape((trainX.shape[0], 1, height, width))\n",
    "    testX = testX.reshape((testX.shape[0], 1, height, width))\n",
    "# num_samples x rows x columns x depth\n",
    "else:\n",
    "    trainX = trainX.reshape((trainX.shape[0], height, width, 1))\n",
    "    testX = testX.reshape((testX.shape[0], height, width, 1))\n"
   ]
  },
  {
   "cell_type": "markdown",
   "metadata": {},
   "source": [
    "In order to train a good model, but not spend too much time looking for the best one, I will first train several models with a small number of epochs, and changing some hyperparameters between them. This will give me an idea of which configuration could work best for this particular problem. Later, I will train a model with those hyperparameters, but increasing the number of epochs (and checking if it doesn't start overfittig)\n",
    "\n",
    "For this reason, I will split the original train-set in two sets: subtrain and eval. I will be evaluating these pre-models with the eval-set, and finally I will train the final model with the original train-set, and test it with the test-set."
   ]
  },
  {
   "cell_type": "code",
   "execution_count": 4,
   "metadata": {},
   "outputs": [],
   "source": [
    "validation_split = 0.1666\n",
    "\n",
    "# Split train in (sub)train and eval\n",
    "subtrainX, evalX, subtrainY, evalY = train_test_split(trainX, trainY, test_size=validation_split)"
   ]
  },
  {
   "cell_type": "markdown",
   "metadata": {},
   "source": [
    "All of the pre-models will be trained with the same number of epochs and mini-batch-size"
   ]
  },
  {
   "cell_type": "code",
   "execution_count": 5,
   "metadata": {},
   "outputs": [],
   "source": [
    "NUM_EPOCHS = 10\n",
    "MINI_BATCH_SIZE = 32"
   ]
  },
  {
   "cell_type": "markdown",
   "metadata": {},
   "source": [
    "Now, I will be training several models with different strategies, based on:\n",
    "\n",
    "    - architecture: changing the number of filters and dropout probabilities\n",
    "    - optimizers: changing between some optimizers that are implemented in Keras\n",
    "    - data-augmentation: changing the brightness of the input images\n",
    "    \n",
    "As for the data-augmentation strategy, looking at the dataset, it seems that all of the images are already centered, with fixed sizes, aligned, etc. So shifting, flipping, shearing and zooming wouldn't be correct. But they do change in brightness. So I will be making data-augmentation based only on this last variable, but trying different values."
   ]
  },
  {
   "cell_type": "code",
   "execution_count": 8,
   "metadata": {},
   "outputs": [],
   "source": [
    "# These are the hyperparameters that I will be tuning for the architecture\n",
    "architectures = {\n",
    "                 \"A\": {\"first_cv_filters\": 32, \"second_cv_filters\": 64, \"first_cv_dropout\": 0.25, \"second_cv_dropout\": 0.25, \"fc_nodes\": 512, \"fc_dropout\": 0.5},\n",
    "                 \"B\": {\"first_cv_filters\": 32, \"second_cv_filters\": 64, \"first_cv_dropout\": 0.5, \"second_cv_dropout\": 0.5, \"fc_nodes\": 512, \"fc_dropout\": 0.5},\n",
    "                 \"C\": {\"first_cv_filters\": 32, \"second_cv_filters\": 64, \"first_cv_dropout\": 0.5, \"second_cv_dropout\": 0.5, \"fc_nodes\": 512, \"fc_dropout\": 0.7}\n",
    "                 }\n",
    "\n",
    "# These are the optimizers that I will be selecting\n",
    "INIT_LEARNING_RATE = 1e-2\n",
    "optimizers = {\"Adagrad\": Adagrad(), # http://www.jmlr.org/papers/volume12/duchi11a/duchi11a.pdf\n",
    "              \"Adadelta\": Adadelta(), # https://arxiv.org/abs/1212.5701\n",
    "              \"Adam\": Adam(), # https://arxiv.org/abs/1412.6980v8\n",
    "              \"Adamax\": Adamax(),\n",
    "              \"Nadam\": Nadam() #http://cs229.stanford.edu/proj2015/054_report.pdf\n",
    "              }\n",
    "\n",
    "# I will be doing DataAugmentation based on brightness.\n",
    "data_augs = {\"OFF\": 0,\n",
    "             \"5x_0.9_1.1\": {\"mult\": 5, \"from\": 0.9, \"to\": 1.1},\n",
    "             \"10x_0.9_1.1\": {\"mult\": 10, \"from\": 0.9, \"to\": 1.1},\n",
    "             \"5x_0.7_1.3\": {\"mult\": 5, \"from\": 0.7, \"to\": 1.3},\n",
    "             \"10x_0.7_1.3\": {\"mult\": 10, \"from\": 0.7, \"to\": 1.3},\n",
    "             \"5x_0.5_1.5\": {\"mult\": 5, \"from\": 0.5, \"to\": 1.5},\n",
    "             \"10x_0.5_1.5\": {\"mult\": 10, \"from\": 0.5, \"to\": 1.5}\n",
    "             }\n",
    "\n",
    "results = []"
   ]
  },
  {
   "cell_type": "markdown",
   "metadata": {},
   "source": [
    "After some small training I have made (not showed here), I decided to keep the C architecture, with Nadam optimizer, and data augmentation. Now I will train the same model, but with more epochs."
   ]
  },
  {
   "cell_type": "code",
   "execution_count": 10,
   "metadata": {},
   "outputs": [],
   "source": [
    "NUM_EPOCHS = 10\n",
    "ARCHITECTURE = \"C\"\n",
    "OPTIMIZER = \"Nadam\"\n",
    "DATA_AUG = \"10x_0.7_1.3\"\n"
   ]
  },
  {
   "cell_type": "code",
   "execution_count": 11,
   "metadata": {},
   "outputs": [
    {
     "name": "stdout",
     "output_type": "stream",
     "text": [
      "[INFO] compiling model...\n",
      "_________________________________________________________________\n",
      "Layer (type)                 Output Shape              Param #   \n",
      "=================================================================\n",
      "conv2d_1 (Conv2D)            (None, 28, 28, 32)        288       \n",
      "_________________________________________________________________\n",
      "batch_normalization_1 (Batch (None, 28, 28, 32)        128       \n",
      "_________________________________________________________________\n",
      "conv2d_2 (Conv2D)            (None, 28, 28, 32)        9216      \n",
      "_________________________________________________________________\n",
      "batch_normalization_2 (Batch (None, 28, 28, 32)        128       \n",
      "_________________________________________________________________\n",
      "max_pooling2d_1 (MaxPooling2 (None, 14, 14, 32)        0         \n",
      "_________________________________________________________________\n",
      "dropout_1 (Dropout)          (None, 14, 14, 32)        0         \n",
      "_________________________________________________________________\n",
      "conv2d_3 (Conv2D)            (None, 14, 14, 64)        18432     \n",
      "_________________________________________________________________\n",
      "batch_normalization_3 (Batch (None, 14, 14, 64)        256       \n",
      "_________________________________________________________________\n",
      "conv2d_4 (Conv2D)            (None, 14, 14, 64)        36864     \n",
      "_________________________________________________________________\n",
      "batch_normalization_4 (Batch (None, 14, 14, 64)        256       \n",
      "_________________________________________________________________\n",
      "max_pooling2d_2 (MaxPooling2 (None, 7, 7, 64)          0         \n",
      "_________________________________________________________________\n",
      "dropout_2 (Dropout)          (None, 7, 7, 64)          0         \n",
      "_________________________________________________________________\n",
      "flatten_1 (Flatten)          (None, 3136)              0         \n",
      "_________________________________________________________________\n",
      "dense_1 (Dense)              (None, 512)               1606144   \n",
      "_________________________________________________________________\n",
      "activation_1 (Activation)    (None, 512)               0         \n",
      "_________________________________________________________________\n",
      "batch_normalization_5 (Batch (None, 512)               2048      \n",
      "_________________________________________________________________\n",
      "dropout_3 (Dropout)          (None, 512)               0         \n",
      "_________________________________________________________________\n",
      "dense_2 (Dense)              (None, 10)                5130      \n",
      "_________________________________________________________________\n",
      "activation_2 (Activation)    (None, 10)                0         \n",
      "=================================================================\n",
      "Total params: 1,678,890\n",
      "Trainable params: 1,677,482\n",
      "Non-trainable params: 1,408\n",
      "_________________________________________________________________\n",
      "[INFO] training model...\n",
      "Epoch 1/10\n",
      "18750/18750 [==============================] - 667s 36ms/step - loss: 0.3344 - acc: 0.8814 - val_loss: 0.2672 - val_acc: 0.9022\n",
      "\n",
      "Epoch 00001: saving model to ./checkpoints/cp-0001.ckpt\n",
      "Epoch 2/10\n",
      "18750/18750 [==============================] - 641s 34ms/step - loss: 0.2220 - acc: 0.9196 - val_loss: 0.1933 - val_acc: 0.9282\n",
      "\n",
      "Epoch 00002: saving model to ./checkpoints/cp-0002.ckpt\n",
      "Epoch 3/10\n",
      "18750/18750 [==============================] - 678s 36ms/step - loss: 0.1953 - acc: 0.9295 - val_loss: 0.1866 - val_acc: 0.9349\n",
      "\n",
      "Epoch 00003: saving model to ./checkpoints/cp-0003.ckpt\n",
      "Epoch 4/10\n",
      "18750/18750 [==============================] - 620s 33ms/step - loss: 0.1802 - acc: 0.9349 - val_loss: 0.1812 - val_acc: 0.9357\n",
      "\n",
      "Epoch 00004: saving model to ./checkpoints/cp-0004.ckpt\n",
      "Epoch 5/10\n",
      "18750/18750 [==============================] - 609s 32ms/step - loss: 0.1669 - acc: 0.9391 - val_loss: 0.1811 - val_acc: 0.9409\n",
      "\n",
      "Epoch 00005: saving model to ./checkpoints/cp-0005.ckpt\n",
      "Epoch 6/10\n",
      "18750/18750 [==============================] - 610s 33ms/step - loss: 0.1588 - acc: 0.9422 - val_loss: 0.1794 - val_acc: 0.9432\n",
      "\n",
      "Epoch 00006: saving model to ./checkpoints/cp-0006.ckpt\n",
      "Epoch 7/10\n",
      "18750/18750 [==============================] - 610s 33ms/step - loss: 0.1521 - acc: 0.9448 - val_loss: 0.1806 - val_acc: 0.9412\n",
      "\n",
      "Epoch 00007: saving model to ./checkpoints/cp-0007.ckpt\n",
      "Epoch 8/10\n",
      "18750/18750 [==============================] - 610s 33ms/step - loss: 0.1460 - acc: 0.9465 - val_loss: 0.1845 - val_acc: 0.9402\n",
      "\n",
      "Epoch 00008: saving model to ./checkpoints/cp-0008.ckpt\n",
      "Epoch 9/10\n",
      "18750/18750 [==============================] - 610s 33ms/step - loss: 0.1415 - acc: 0.9483 - val_loss: 0.1770 - val_acc: 0.9418\n",
      "\n",
      "Epoch 00009: saving model to ./checkpoints/cp-0009.ckpt\n",
      "Epoch 10/10\n",
      "18750/18750 [==============================] - 610s 33ms/step - loss: 0.1368 - acc: 0.9504 - val_loss: 0.1813 - val_acc: 0.9429\n",
      "\n",
      "Epoch 00010: saving model to ./checkpoints/cp-0010.ckpt\n"
     ]
    }
   ],
   "source": [
    "print(\"[INFO] compiling model...\")\n",
    "\n",
    "# define model\n",
    "model = MiniVGGNet.build(width=width,\n",
    "                         height=height,\n",
    "                         depth=depth,\n",
    "                         classes=numLabels,\n",
    "                         first_cv_filters=architectures[ARCHITECTURE][\"first_cv_filters\"],\n",
    "                         second_cv_filters=architectures[ARCHITECTURE][\"second_cv_filters\"],\n",
    "                         first_cv_dropout=architectures[ARCHITECTURE][\"first_cv_dropout\"],\n",
    "                         second_cv_dropout=architectures[ARCHITECTURE][\"second_cv_dropout\"],\n",
    "                         fc_nodes=architectures[ARCHITECTURE][\"fc_nodes\"],\n",
    "                         fc_dropout=architectures[ARCHITECTURE][\"fc_dropout\"])\n",
    "\n",
    "model.compile(loss=\"sparse_categorical_crossentropy\", # multi-class classification\n",
    "              optimizer=optimizers[OPTIMIZER],\n",
    "              metrics=[\"accuracy\"] # same number of examples for each class\n",
    "              )\n",
    "\n",
    "# model summary\n",
    "model.summary()\n",
    "\n",
    "# train the network\n",
    "print(\"[INFO] training model...\")\n",
    "\n",
    "dataaug_train_gen = ImageDataGenerator(rescale=1. / 255, brightness_range=[data_augs[DATA_AUG][\"from\"],\n",
    "                                                                           data_augs[DATA_AUG][\"to\"]])\n",
    "dataaug_eval_gen = ImageDataGenerator(rescale=1. / 255)\n",
    "# dataaug_train_gen.fit(subtrainX)\n",
    "# dataaug_eval_gen.fit(evalX)\n",
    "train_aug_it = dataaug_train_gen.flow(trainX, trainY, batch_size=MINI_BATCH_SIZE)\n",
    "test_aug_it = dataaug_eval_gen.flow(testX, testY, batch_size=MINI_BATCH_SIZE)\n",
    "\n",
    "# using checkpoints\n",
    "# include the epoch in the file name. (uses `str.format`)\n",
    "checkpoint_path = \"./checkpoints/cp-{epoch:04d}.ckpt\"\n",
    "checkpoint_dir = os.path.dirname(checkpoint_path)\n",
    "# Create checkpoint callback\n",
    "cp_callback = callbacks.ModelCheckpoint(checkpoint_path,\n",
    "                                        save_weights_only=True, # as I know the model architecture, I can save the weights only\n",
    "                                        period=1, # every 1 epoch (default)\n",
    "                                        verbose=1)\n",
    "model.save_weights(checkpoint_path.format(epoch=0))\n",
    "\n",
    "H = model.fit_generator(train_aug_it,\n",
    "                        validation_data=test_aug_it,\n",
    "                        steps_per_epoch=((data_augs[DATA_AUG][\"mult\"]*len(trainX)) / MINI_BATCH_SIZE),\n",
    "                        epochs=NUM_EPOCHS, shuffle=True,\n",
    "                        validation_steps=len(testX) / MINI_BATCH_SIZE,\n",
    "                        verbose=1,\n",
    "                        use_multiprocessing=True,\n",
    "                        callbacks=[cp_callback])  # pass callback to training\n"
   ]
  },
  {
   "cell_type": "markdown",
   "metadata": {},
   "source": [
    "Now we can evaluate the model with our test-set:"
   ]
  },
  {
   "cell_type": "code",
   "execution_count": 12,
   "metadata": {},
   "outputs": [],
   "source": [
    "train_loss, train_acc = model.evaluate(trainX.astype(\"float32\") / 255.0, trainY, verbose=0)\n",
    "test_loss, test_acc = model.evaluate(testX.astype(\"float32\") / 255.0, testY, verbose=0)"
   ]
  },
  {
   "cell_type": "code",
   "execution_count": 13,
   "metadata": {},
   "outputs": [
    {
     "name": "stdout",
     "output_type": "stream",
     "text": [
      "Train accuracy [%]: 98.39\n",
      "Test accuracy [%]: 94.29\n",
      "Bias [%]: 1.61\n",
      "Variance [%]: 4.10\n"
     ]
    }
   ],
   "source": [
    "print('Train accuracy [%]: {0:.2f}'.format(train_acc*100))\n",
    "print('Test accuracy [%]: {0:.2f}'.format(test_acc*100))\n",
    "print('Bias [%]: {0:.2f}'.format((1-train_acc)*100))\n",
    "print('Variance [%]: {0:.2f}'.format(((1-test_acc) - (1-train_acc))*100))"
   ]
  },
  {
   "cell_type": "markdown",
   "metadata": {},
   "source": [
    "We see that the Bias error is small, but we still have some Variance. So the model is overfitting the dataset. Let's see some plots to understand better what is happening."
   ]
  },
  {
   "cell_type": "code",
   "execution_count": 14,
   "metadata": {},
   "outputs": [
    {
     "data": {
      "image/png": "[encoded data removed]",
      "text/plain": [
       "<Figure size 432x288 with 1 Axes>"
      ]
     },
     "metadata": {},
     "output_type": "display_data"
    }
   ],
   "source": [
    "# plot the training loss and accuracy\n",
    "plt.style.use(\"ggplot\")\n",
    "plt.figure()\n",
    "plt.plot(np.arange(0, NUM_EPOCHS), H.history[\"loss\"], label=\"(mini-batches) train_loss\")\n",
    "plt.plot(np.arange(0, NUM_EPOCHS), H.history[\"val_loss\"], label=\"val_loss\")\n",
    "plt.title(\"Training / Validation Loss on Dataset\")\n",
    "plt.xlabel(\"Epoch #\")\n",
    "plt.ylabel(\"Loss\")\n",
    "plt.legend(loc=\"lower left\")\n",
    "plt.savefig(\"loss_plot.png\")\n"
   ]
  },
  {
   "cell_type": "code",
   "execution_count": 15,
   "metadata": {},
   "outputs": [
    {
     "data": {
      "image/png": "[encoded data removed]",
      "text/plain": [
       "<Figure size 432x288 with 1 Axes>"
      ]
     },
     "metadata": {},
     "output_type": "display_data"
    }
   ],
   "source": [
    "# plot the training loss and accuracy\n",
    "plt.style.use(\"ggplot\")\n",
    "plt.figure()\n",
    "plt.plot(np.arange(0, NUM_EPOCHS), 100*(1-np.array(H.history[\"acc\"])), label=\"(mini-batches) train_error\")\n",
    "plt.plot(np.arange(0, NUM_EPOCHS), 100*(1-np.array(H.history[\"val_acc\"])), label=\"val_error\")\n",
    "plt.title(\"Training / Validation Error on Dataset\")\n",
    "plt.xlabel(\"Epoch #\")\n",
    "plt.ylabel(\"Loss/Accuracy\")\n",
    "plt.legend(loc=\"lower left\")\n",
    "plt.savefig(\"error_plot.png\")\n"
   ]
  },
  {
   "cell_type": "markdown",
   "metadata": {},
   "source": [
    "So after epoch number 6, the model started to overfit. So, I will keep that checkpoint instead of the final model."
   ]
  },
  {
   "cell_type": "code",
   "execution_count": 16,
   "metadata": {},
   "outputs": [],
   "source": [
    "checkpoint_path = \"./checkpoints/cp-0006.ckpt\"\n",
    "model.load_weights(checkpoint_path)"
   ]
  },
  {
   "cell_type": "code",
   "execution_count": 17,
   "metadata": {},
   "outputs": [],
   "source": [
    "train_loss, train_acc = model.evaluate(trainX.astype(\"float32\") / 255.0, trainY, verbose=0)\n",
    "test_loss, test_acc = model.evaluate(testX.astype(\"float32\") / 255.0, testY, verbose=0)"
   ]
  },
  {
   "cell_type": "code",
   "execution_count": 18,
   "metadata": {},
   "outputs": [
    {
     "name": "stdout",
     "output_type": "stream",
     "text": [
      "Train accuracy [%]: 97.46\n",
      "Test accuracy [%]: 94.32\n",
      "Bias [%]: 2.54\n",
      "Variance [%]: 3.14\n"
     ]
    }
   ],
   "source": [
    "print('Train accuracy [%]: {0:.2f}'.format(train_acc*100))\n",
    "print('Test accuracy [%]: {0:.2f}'.format(test_acc*100))\n",
    "print('Bias [%]: {0:.2f}'.format((1-train_acc)*100))\n",
    "print('Variance [%]: {0:.2f}'.format(((1-test_acc) - (1-train_acc))*100))"
   ]
  },
  {
   "cell_type": "markdown",
   "metadata": {},
   "source": [
    "So it seems that this model could probably not improve with more epochs, as it is overfitting the dataset. For next epochs we could try improving our regularization techniques, for example increasing the dropout probabilities or the data-augmentation values.\n",
    "\n",
    "But for now let's stay with this model. We can see in which classes the model performs better or worse:"
   ]
  },
  {
   "cell_type": "code",
   "execution_count": 19,
   "metadata": {},
   "outputs": [
    {
     "name": "stdout",
     "output_type": "stream",
     "text": [
      "[INFO] evaluating network...\n",
      "              precision    recall  f1-score   support\n",
      "\n",
      " T-shirt/top       0.90      0.90      0.90      1000\n",
      "     Trouser       1.00      0.99      0.99      1000\n",
      "    Pullover       0.93      0.91      0.92      1000\n",
      "       Dress       0.92      0.96      0.94      1000\n",
      "        Coat       0.90      0.92      0.91      1000\n",
      "      Sandal       0.99      0.99      0.99      1000\n",
      "       Shirt       0.85      0.81      0.83      1000\n",
      "     Sneaker       0.97      0.98      0.98      1000\n",
      "         Bag       0.99      0.99      0.99      1000\n",
      "  Ankle boot       0.98      0.97      0.98      1000\n",
      "\n",
      "   micro avg       0.94      0.94      0.94     10000\n",
      "   macro avg       0.94      0.94      0.94     10000\n",
      "weighted avg       0.94      0.94      0.94     10000\n",
      "\n"
     ]
    }
   ],
   "source": [
    "print(\"[INFO] evaluating network...\")\n",
    "preds = model.predict(testX.astype(\"float32\") / 255.0, verbose=0)\n",
    "print(classification_report(testY, preds.argmax(axis=1), target_names=labelNames))"
   ]
  },
  {
   "cell_type": "markdown",
   "metadata": {},
   "source": [
    "(So T-shirts, pullovers, coats and shirts are the things that the model most missclassifies, which sounds reasonable as they are, from the dataset, the most similar things to the eyes)"
   ]
  },
  {
   "cell_type": "markdown",
   "metadata": {},
   "source": [
    "And finally, save it to a .h5 file (complete model, with architecture, weights, etc)"
   ]
  },
  {
   "cell_type": "code",
   "execution_count": 20,
   "metadata": {},
   "outputs": [],
   "source": [
    "# save model\n",
    "model.save('./model/final_model.h5')"
   ]
  },
  {
   "cell_type": "code",
   "execution_count": null,
   "metadata": {},
   "outputs": [],
   "source": []
  }
 ],
 "metadata": {
  "kernelspec": {
   "display_name": "advertima",
   "language": "python",
   "name": "advertima"
  },
  "language_info": {
   "codemirror_mode": {
    "name": "ipython",
    "version": 3
   },
   "file_extension": ".py",
   "mimetype": "text/x-python",
   "name": "python",
   "nbconvert_exporter": "python",
   "pygments_lexer": "ipython3",
   "version": "3.5.2"
  }
 },
 "nbformat": 4,
 "nbformat_minor": 2
}
