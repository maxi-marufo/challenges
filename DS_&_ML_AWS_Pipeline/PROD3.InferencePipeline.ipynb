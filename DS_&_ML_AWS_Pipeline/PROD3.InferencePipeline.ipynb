{
 "cells": [
  {
   "cell_type": "markdown",
   "metadata": {},
   "source": [
    "## Inference Pipeline\n",
    "\n",
    "Now we have to predict the \"future sales\". This is a process that we are going to run every business day, in the middle of the night to try to predict how much each reseller is going to buy on their next pruchase. \n",
    "\n",
    "We will be basing on the max date of the dataset + 1 day because our extraction is not updated, but in production we can use the current day of the system and trust that we have all the relevant sales history from our transactional system. \n",
    "\n",
    "Note that to compute the features, now we only need the previous 30 days.\n"
   ]
  },
  {
   "cell_type": "code",
   "execution_count": 1,
   "metadata": {},
   "outputs": [],
   "source": [
    "import sagemaker\n",
    "import boto3\n",
    "from sagemaker.estimator import Estimator\n",
    "from sagemaker.tuner import HyperparameterTuner\n",
    "import numpy as np                                # For matrix operations and numerical processing\n",
    "import pandas as pd                               # For munging tabular data\n",
    "import os \n",
    "import time\n",
    "from sagemaker.predictor import csv_serializer,RealTimePredictor\n",
    "import datetime\n",
    "import pickle\n",
    "import awswrangler"
   ]
  },
  {
   "cell_type": "code",
   "execution_count": 2,
   "metadata": {},
   "outputs": [],
   "source": [
    "%store -r df"
   ]
  },
  {
   "cell_type": "code",
   "execution_count": 3,
   "metadata": {},
   "outputs": [],
   "source": [
    "%store -r df_r"
   ]
  },
  {
   "cell_type": "code",
   "execution_count": 4,
   "metadata": {},
   "outputs": [],
   "source": [
    "df['date'] = pd.to_datetime(df['date'])"
   ]
  },
  {
   "cell_type": "code",
   "execution_count": 5,
   "metadata": {},
   "outputs": [],
   "source": [
    "max_date = df['date'].max()"
   ]
  },
  {
   "cell_type": "code",
   "execution_count": 6,
   "metadata": {},
   "outputs": [],
   "source": [
    "min_date = max_date - pd.Timedelta(days=30)"
   ]
  },
  {
   "cell_type": "code",
   "execution_count": 7,
   "metadata": {},
   "outputs": [],
   "source": [
    "df = df[(df['date'] > min_date)]"
   ]
  },
  {
   "cell_type": "markdown",
   "metadata": {},
   "source": [
    "We are going to fill with amount 0 all the missing sales for each reseller every day."
   ]
  },
  {
   "cell_type": "code",
   "execution_count": 8,
   "metadata": {},
   "outputs": [],
   "source": [
    "def completeItem(dfItem,max_date,min_date):\n",
    "    r = pd.date_range(start=min_date, end=max_date)\n",
    "    dfItemNew = dfItem.set_index('date').reindex(r).fillna(0.0).rename_axis('date').reset_index()\n",
    "    dfItemNew['id_reseller'] = dfItem['id_reseller'].max()\n",
    "    return dfItemNew\n"
   ]
  },
  {
   "cell_type": "code",
   "execution_count": 9,
   "metadata": {},
   "outputs": [],
   "source": [
    "dfCompletedList = []\n",
    "for nid,item in df.groupby('id_reseller'):\n",
    "    dfCompletedList.append(completeItem(item,max_date,min_date))\n",
    "dfCompleted = pd.concat(dfCompletedList).copy()"
   ]
  },
  {
   "cell_type": "code",
   "execution_count": 10,
   "metadata": {},
   "outputs": [],
   "source": [
    "df = dfCompleted"
   ]
  },
  {
   "cell_type": "code",
   "execution_count": 11,
   "metadata": {},
   "outputs": [],
   "source": [
    "del dfCompleted"
   ]
  },
  {
   "cell_type": "code",
   "execution_count": 12,
   "metadata": {},
   "outputs": [
    {
     "data": {
      "text/html": [
       "<div>\n",
       "<style scoped>\n",
       "    .dataframe tbody tr th:only-of-type {\n",
       "        vertical-align: middle;\n",
       "    }\n",
       "\n",
       "    .dataframe tbody tr th {\n",
       "        vertical-align: top;\n",
       "    }\n",
       "\n",
       "    .dataframe thead th {\n",
       "        text-align: right;\n",
       "    }\n",
       "</style>\n",
       "<table border=\"1\" class=\"dataframe\">\n",
       "  <thead>\n",
       "    <tr style=\"text-align: right;\">\n",
       "      <th></th>\n",
       "      <th>date</th>\n",
       "      <th>id_reseller</th>\n",
       "      <th>bill</th>\n",
       "    </tr>\n",
       "  </thead>\n",
       "  <tbody>\n",
       "    <tr>\n",
       "      <th>0</th>\n",
       "      <td>2019-04-21</td>\n",
       "      <td>499921276</td>\n",
       "      <td>0.000</td>\n",
       "    </tr>\n",
       "    <tr>\n",
       "      <th>1</th>\n",
       "      <td>2019-04-22</td>\n",
       "      <td>499921276</td>\n",
       "      <td>7940.451</td>\n",
       "    </tr>\n",
       "    <tr>\n",
       "      <th>2</th>\n",
       "      <td>2019-04-23</td>\n",
       "      <td>499921276</td>\n",
       "      <td>0.000</td>\n",
       "    </tr>\n",
       "    <tr>\n",
       "      <th>3</th>\n",
       "      <td>2019-04-24</td>\n",
       "      <td>499921276</td>\n",
       "      <td>0.000</td>\n",
       "    </tr>\n",
       "    <tr>\n",
       "      <th>4</th>\n",
       "      <td>2019-04-25</td>\n",
       "      <td>499921276</td>\n",
       "      <td>0.000</td>\n",
       "    </tr>\n",
       "    <tr>\n",
       "      <th>5</th>\n",
       "      <td>2019-04-26</td>\n",
       "      <td>499921276</td>\n",
       "      <td>9206.969</td>\n",
       "    </tr>\n",
       "    <tr>\n",
       "      <th>6</th>\n",
       "      <td>2019-04-27</td>\n",
       "      <td>499921276</td>\n",
       "      <td>0.000</td>\n",
       "    </tr>\n",
       "    <tr>\n",
       "      <th>7</th>\n",
       "      <td>2019-04-28</td>\n",
       "      <td>499921276</td>\n",
       "      <td>0.000</td>\n",
       "    </tr>\n",
       "    <tr>\n",
       "      <th>8</th>\n",
       "      <td>2019-04-29</td>\n",
       "      <td>499921276</td>\n",
       "      <td>7559.732</td>\n",
       "    </tr>\n",
       "    <tr>\n",
       "      <th>9</th>\n",
       "      <td>2019-04-30</td>\n",
       "      <td>499921276</td>\n",
       "      <td>0.000</td>\n",
       "    </tr>\n",
       "  </tbody>\n",
       "</table>\n",
       "</div>"
      ],
      "text/plain": [
       "        date  id_reseller      bill\n",
       "0 2019-04-21    499921276     0.000\n",
       "1 2019-04-22    499921276  7940.451\n",
       "2 2019-04-23    499921276     0.000\n",
       "3 2019-04-24    499921276     0.000\n",
       "4 2019-04-25    499921276     0.000\n",
       "5 2019-04-26    499921276  9206.969\n",
       "6 2019-04-27    499921276     0.000\n",
       "7 2019-04-28    499921276     0.000\n",
       "8 2019-04-29    499921276  7559.732\n",
       "9 2019-04-30    499921276     0.000"
      ]
     },
     "execution_count": 12,
     "metadata": {},
     "output_type": "execute_result"
    }
   ],
   "source": [
    "df.head(10)"
   ]
  },
  {
   "cell_type": "markdown",
   "metadata": {},
   "source": [
    "### Features for each reseller"
   ]
  },
  {
   "cell_type": "code",
   "execution_count": 13,
   "metadata": {},
   "outputs": [],
   "source": [
    "def complete_info(group):\n",
    "    weekday = (max_date + pd.Timedelta(days=1)).weekday_name\n",
    "    mean_last_30 = group['bill'].replace(0,np.nan).mean()\n",
    "    std_last_30 = group['bill'].replace(0,np.nan).std()\n",
    "    date_last_bill = group[group['bill'] != 0]['date'].max()\n",
    "    days_without_purchase = (max_date + pd.Timedelta(days=1) - date_last_bill).days\n",
    "    \n",
    "    mean_last_7 = group[(group['date'] >= max_date - pd.Timedelta(days=6))]['bill'].replace(0,np.nan).mean()\n",
    "    last_bill = group[group['bill'] > 0].sort_values('date',ascending=False).head(1)['bill'].values[0]\n",
    "    return {'weekday':weekday,'mean-last-30':mean_last_30,\n",
    "           'std-last-30':std_last_30,'mean-last-7':mean_last_7,'last_bill':last_bill, \n",
    "           'id_reseller':int(group['id_reseller'].max()), 'days_without_purchase':days_without_purchase}"
   ]
  },
  {
   "cell_type": "code",
   "execution_count": 14,
   "metadata": {},
   "outputs": [
    {
     "name": "stderr",
     "output_type": "stream",
     "text": [
      "/home/ec2-user/anaconda3/envs/python3/lib/python3.6/site-packages/ipykernel/__main__.py:2: FutureWarning: `weekday_name` is deprecated and will be removed in a future version. Use `day_name` instead\n",
      "  from ipykernel import kernelapp as app\n"
     ]
    }
   ],
   "source": [
    "features = []\n",
    "for index,group in df.groupby('id_reseller'):\n",
    "    features.append(complete_info(group))"
   ]
  },
  {
   "cell_type": "code",
   "execution_count": 15,
   "metadata": {},
   "outputs": [],
   "source": [
    "df_features = pd.DataFrame(features)"
   ]
  },
  {
   "cell_type": "code",
   "execution_count": 16,
   "metadata": {},
   "outputs": [
    {
     "data": {
      "text/plain": [
       "(1197, 7)"
      ]
     },
     "execution_count": 16,
     "metadata": {},
     "output_type": "execute_result"
    }
   ],
   "source": [
    "df_features.shape"
   ]
  },
  {
   "cell_type": "markdown",
   "metadata": {},
   "source": [
    "### Merge with reseller info and compute dummy variables"
   ]
  },
  {
   "cell_type": "code",
   "execution_count": 17,
   "metadata": {},
   "outputs": [
    {
     "data": {
      "text/html": [
       "<div>\n",
       "<style scoped>\n",
       "    .dataframe tbody tr th:only-of-type {\n",
       "        vertical-align: middle;\n",
       "    }\n",
       "\n",
       "    .dataframe tbody tr th {\n",
       "        vertical-align: top;\n",
       "    }\n",
       "\n",
       "    .dataframe thead th {\n",
       "        text-align: right;\n",
       "    }\n",
       "</style>\n",
       "<table border=\"1\" class=\"dataframe\">\n",
       "  <thead>\n",
       "    <tr style=\"text-align: right;\">\n",
       "      <th></th>\n",
       "      <th>weekday</th>\n",
       "      <th>mean-last-30</th>\n",
       "      <th>std-last-30</th>\n",
       "      <th>mean-last-7</th>\n",
       "      <th>last_bill</th>\n",
       "      <th>id_reseller</th>\n",
       "      <th>days_without_purchase</th>\n",
       "    </tr>\n",
       "  </thead>\n",
       "  <tbody>\n",
       "    <tr>\n",
       "      <th>0</th>\n",
       "      <td>Wednesday</td>\n",
       "      <td>8634.657444</td>\n",
       "      <td>2449.592207</td>\n",
       "      <td>8835.64550</td>\n",
       "      <td>6863.729</td>\n",
       "      <td>499921276</td>\n",
       "      <td>2</td>\n",
       "    </tr>\n",
       "    <tr>\n",
       "      <th>1</th>\n",
       "      <td>Wednesday</td>\n",
       "      <td>8953.074875</td>\n",
       "      <td>5013.080449</td>\n",
       "      <td>6932.08500</td>\n",
       "      <td>7728.092</td>\n",
       "      <td>499921342</td>\n",
       "      <td>1</td>\n",
       "    </tr>\n",
       "    <tr>\n",
       "      <th>2</th>\n",
       "      <td>Wednesday</td>\n",
       "      <td>22855.883769</td>\n",
       "      <td>43823.031063</td>\n",
       "      <td>6963.73875</td>\n",
       "      <td>718.290</td>\n",
       "      <td>499921344</td>\n",
       "      <td>1</td>\n",
       "    </tr>\n",
       "    <tr>\n",
       "      <th>3</th>\n",
       "      <td>Wednesday</td>\n",
       "      <td>21024.691000</td>\n",
       "      <td>5522.351798</td>\n",
       "      <td>27126.84400</td>\n",
       "      <td>27126.844</td>\n",
       "      <td>499921352</td>\n",
       "      <td>5</td>\n",
       "    </tr>\n",
       "    <tr>\n",
       "      <th>4</th>\n",
       "      <td>Wednesday</td>\n",
       "      <td>2601.613375</td>\n",
       "      <td>701.502616</td>\n",
       "      <td>2173.06300</td>\n",
       "      <td>1642.154</td>\n",
       "      <td>499921458</td>\n",
       "      <td>1</td>\n",
       "    </tr>\n",
       "  </tbody>\n",
       "</table>\n",
       "</div>"
      ],
      "text/plain": [
       "     weekday  mean-last-30   std-last-30  mean-last-7  last_bill  id_reseller  \\\n",
       "0  Wednesday   8634.657444   2449.592207   8835.64550   6863.729    499921276   \n",
       "1  Wednesday   8953.074875   5013.080449   6932.08500   7728.092    499921342   \n",
       "2  Wednesday  22855.883769  43823.031063   6963.73875    718.290    499921344   \n",
       "3  Wednesday  21024.691000   5522.351798  27126.84400  27126.844    499921352   \n",
       "4  Wednesday   2601.613375    701.502616   2173.06300   1642.154    499921458   \n",
       "\n",
       "   days_without_purchase  \n",
       "0                      2  \n",
       "1                      1  \n",
       "2                      1  \n",
       "3                      5  \n",
       "4                      1  "
      ]
     },
     "execution_count": 17,
     "metadata": {},
     "output_type": "execute_result"
    }
   ],
   "source": [
    "df_features.head()"
   ]
  },
  {
   "cell_type": "code",
   "execution_count": 18,
   "metadata": {},
   "outputs": [],
   "source": [
    "df_features = df_features.merge(df_r,how='inner',on='id_reseller')"
   ]
  },
  {
   "cell_type": "code",
   "execution_count": 19,
   "metadata": {},
   "outputs": [
    {
     "data": {
      "text/plain": [
       "(1197, 9)"
      ]
     },
     "execution_count": 19,
     "metadata": {},
     "output_type": "execute_result"
    }
   ],
   "source": [
    "df_features.shape"
   ]
  },
  {
   "cell_type": "code",
   "execution_count": 20,
   "metadata": {},
   "outputs": [],
   "source": [
    "df_features['zone'] = df_features['zone'].apply(lambda x: x if x in [1019,1050,1031,1033,1051,1067] else 0)"
   ]
  },
  {
   "cell_type": "code",
   "execution_count": 21,
   "metadata": {},
   "outputs": [],
   "source": [
    "pickle_in = open(\"preprocessing.pkl\",\"rb\")\n",
    "pipe_list = pickle.load(pickle_in)\n",
    "# [le_cluster,ohe_cluster,le_zone,ohe_zone,le_weekday,ohe_weekday]"
   ]
  },
  {
   "cell_type": "code",
   "execution_count": 22,
   "metadata": {},
   "outputs": [],
   "source": [
    "df_cluster = pd.DataFrame(\n",
    "    pipe_list[1].transform(pipe_list[0].transform(df_features['cluster']).reshape(-1, 1)).todense()\n",
    ")\n",
    "df_cluster = df_cluster.add_prefix('cluster_')"
   ]
  },
  {
   "cell_type": "code",
   "execution_count": 23,
   "metadata": {},
   "outputs": [],
   "source": [
    "df_zone = pd.DataFrame(\n",
    "    pipe_list[3].transform(pipe_list[2].transform(df_features['zone']).reshape(-1, 1)).todense()\n",
    ")\n",
    "df_zone = df_zone.add_prefix('zone_')"
   ]
  },
  {
   "cell_type": "code",
   "execution_count": 24,
   "metadata": {},
   "outputs": [],
   "source": [
    "df_weekday = pd.DataFrame(\n",
    "    pipe_list[5].transform(pipe_list[4].transform(df_features['weekday']).reshape(-1, 1)).todense()\n",
    ")\n",
    "df_weekday = df_weekday.add_prefix('weekday_')"
   ]
  },
  {
   "cell_type": "code",
   "execution_count": 25,
   "metadata": {},
   "outputs": [],
   "source": [
    "df_to_predict = pd.concat([df_features,df_cluster,df_zone,df_weekday],axis=1)"
   ]
  },
  {
   "cell_type": "markdown",
   "metadata": {},
   "source": [
    "### Re-order features\n",
    " Now we have to make sure that the features are in the same order we used for training and that we don't have any extra columns.\n",
    "\n",
    "\n",
    "### Here you are going to need the same columns and order that it's displayed in notebook PROD1 "
   ]
  },
  {
   "cell_type": "code",
   "execution_count": 26,
   "metadata": {},
   "outputs": [
    {
     "data": {
      "text/plain": [
       "Index(['weekday', 'mean-last-30', 'std-last-30', 'mean-last-7', 'last_bill',\n",
       "       'id_reseller', 'days_without_purchase', 'zone', 'cluster', 'cluster_0',\n",
       "       'cluster_1', 'cluster_2', 'cluster_3', 'cluster_4', 'zone_0', 'zone_1',\n",
       "       'zone_2', 'zone_3', 'zone_4', 'zone_5', 'zone_6', 'weekday_0',\n",
       "       'weekday_1', 'weekday_2', 'weekday_3', 'weekday_4', 'weekday_5',\n",
       "       'weekday_6'],\n",
       "      dtype='object')"
      ]
     },
     "execution_count": 26,
     "metadata": {},
     "output_type": "execute_result"
    }
   ],
   "source": [
    "df_to_predict.columns"
   ]
  },
  {
   "cell_type": "code",
   "execution_count": 27,
   "metadata": {},
   "outputs": [],
   "source": [
    "%store -r pred_columns"
   ]
  },
  {
   "cell_type": "code",
   "execution_count": 28,
   "metadata": {},
   "outputs": [],
   "source": [
    "df_to_predict_feats = df_to_predict[pred_columns]"
   ]
  },
  {
   "cell_type": "code",
   "execution_count": 29,
   "metadata": {},
   "outputs": [],
   "source": [
    "df_to_predict_feats.to_csv('to_predict.csv',header=False,index=False)"
   ]
  },
  {
   "cell_type": "code",
   "execution_count": 30,
   "metadata": {},
   "outputs": [],
   "source": [
    "df_to_predict[['id_reseller']].to_csv('id_reseller_to_predict.csv',header=False,index=False)"
   ]
  },
  {
   "cell_type": "code",
   "execution_count": null,
   "metadata": {},
   "outputs": [],
   "source": []
  }
 ],
 "metadata": {
  "kernelspec": {
   "display_name": "conda_python3",
   "language": "python",
   "name": "conda_python3"
  },
  "language_info": {
   "codemirror_mode": {
    "name": "ipython",
    "version": 3
   },
   "file_extension": ".py",
   "mimetype": "text/x-python",
   "name": "python",
   "nbconvert_exporter": "python",
   "pygments_lexer": "ipython3",
   "version": "3.6.5"
  }
 },
 "nbformat": 4,
 "nbformat_minor": 2
}
